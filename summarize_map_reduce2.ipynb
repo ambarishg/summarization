{
 "cells": [
  {
   "cell_type": "code",
   "execution_count": 1,
   "metadata": {},
   "outputs": [],
   "source": [
    "from pdf_helper import get_pdf_data\n",
    "from config import *\n",
    "import os\n",
    "\n",
    "from langchain import PromptTemplate"
   ]
  },
  {
   "cell_type": "code",
   "execution_count": 2,
   "metadata": {},
   "outputs": [],
   "source": [
    "full_text = get_pdf_data(\"VARO.pdf\")"
   ]
  },
  {
   "cell_type": "code",
   "execution_count": 3,
   "metadata": {},
   "outputs": [],
   "source": [
    "from langchain_openai import AzureChatOpenAI\n",
    "from langchain.chains.summarize import load_summarize_chain\n",
    "from langchain.text_splitter import RecursiveCharacterTextSplitter"
   ]
  },
  {
   "cell_type": "code",
   "execution_count": 4,
   "metadata": {},
   "outputs": [
    {
     "data": {
      "text/plain": [
       "244282"
      ]
     },
     "execution_count": 4,
     "metadata": {},
     "output_type": "execute_result"
    }
   ],
   "source": [
    "len(full_text)"
   ]
  },
  {
   "cell_type": "code",
   "execution_count": 5,
   "metadata": {},
   "outputs": [],
   "source": [
    "import os\n",
    "\n",
    "os.environ[\"OPENAI_API_VERSION\"] = \"2023-05-15\"\n",
    "os.environ[\"AZURE_OPENAI_ENDPOINT\"] = AZURE_OPENAI_ENDPOINT\n",
    "os.environ[\"AZURE_OPENAI_API_KEY\"] = AZURE_OPENAI_KEY"
   ]
  },
  {
   "cell_type": "code",
   "execution_count": 6,
   "metadata": {},
   "outputs": [
    {
     "data": {
      "text/plain": [
       "'gpt-4o-mini'"
      ]
     },
     "execution_count": 6,
     "metadata": {},
     "output_type": "execute_result"
    }
   ],
   "source": [
    "AZURE_OPENAI_DEPLOYMENT_GPT_4O_ID"
   ]
  },
  {
   "cell_type": "code",
   "execution_count": 7,
   "metadata": {},
   "outputs": [],
   "source": [
    "llm = AzureChatOpenAI(deployment_name = AZURE_OPENAI_DEPLOYMENT_GPT_4O_ID,\n",
    "                      model=\"gpt-4o-mini\")"
   ]
  },
  {
   "cell_type": "code",
   "execution_count": 8,
   "metadata": {},
   "outputs": [
    {
     "data": {
      "text/plain": [
       "AzureChatOpenAI(client=<openai.resources.chat.completions.completions.Completions object at 0x00000267C2E87210>, async_client=<openai.resources.chat.completions.completions.AsyncCompletions object at 0x00000267C2FDD450>, root_client=<openai.lib.azure.AzureOpenAI object at 0x00000267C3080E50>, root_async_client=<openai.lib.azure.AsyncAzureOpenAI object at 0x00000267C2EB0390>, model_name='gpt-4o-mini', model_kwargs={}, openai_api_key=SecretStr('**********'), disabled_params={'parallel_tool_calls': None}, azure_endpoint='https://westusgenai.openai.azure.com/', deployment_name='gpt-4o-mini', openai_api_version='2023-05-15', openai_api_type='azure')"
      ]
     },
     "execution_count": 8,
     "metadata": {},
     "output_type": "execute_result"
    }
   ],
   "source": [
    "llm"
   ]
  },
  {
   "cell_type": "code",
   "execution_count": 9,
   "metadata": {},
   "outputs": [],
   "source": [
    "text_splitter = RecursiveCharacterTextSplitter(separators=[\"\\n\\n\", \"\\n\"], chunk_size=10000, chunk_overlap=500)\n",
    "\n",
    "docs = text_splitter.create_documents([full_text])"
   ]
  },
  {
   "cell_type": "code",
   "execution_count": 10,
   "metadata": {},
   "outputs": [
    {
     "data": {
      "text/plain": [
       "26"
      ]
     },
     "execution_count": 10,
     "metadata": {},
     "output_type": "execute_result"
    }
   ],
   "source": [
    "len(docs)"
   ]
  },
  {
   "cell_type": "code",
   "execution_count": 11,
   "metadata": {},
   "outputs": [],
   "source": [
    "summary = \"\"\n",
    "pages_per_call = 2\n",
    "delay = 60\n",
    "import time"
   ]
  },
  {
   "cell_type": "code",
   "execution_count": 12,
   "metadata": {},
   "outputs": [
    {
     "data": {
      "text/plain": [
       "''"
      ]
     },
     "execution_count": 12,
     "metadata": {},
     "output_type": "execute_result"
    }
   ],
   "source": [
    "summary"
   ]
  },
  {
   "cell_type": "code",
   "execution_count": 13,
   "metadata": {},
   "outputs": [],
   "source": [
    "map_prompt = \"\"\"\n",
    "Please summarize the following text:\n",
    "{text}\n",
    "\"\"\"\n",
    "\n",
    "reduce_prompt = \"\"\"\n",
    "Please summarize the following text:\n",
    "{text}\n",
    "\"\"\"\n",
    "map_prompt_template = PromptTemplate(template=map_prompt, \n",
    "                                     input_variables=[\"text\"])\n",
    "reduce_prompt_template = PromptTemplate(template=reduce_prompt,\n",
    "                                        input_variables=[\"text\"])"
   ]
  },
  {
   "cell_type": "code",
   "execution_count": 14,
   "metadata": {},
   "outputs": [
    {
     "name": "stderr",
     "output_type": "stream",
     "text": [
      "C:\\Users\\Ambarish Ganguly\\AppData\\Local\\Temp\\ipykernel_25164\\690631642.py:7: LangChainDeprecationWarning: The method `Chain.run` was deprecated in langchain 0.1.0 and will be removed in 1.0. Use :meth:`~invoke` instead.\n",
      "  summary += chain.run(batch_docs)\n"
     ]
    },
    {
     "name": "stdout",
     "output_type": "stream",
     "text": [
      "Summarized pages 1-2\n",
      "Summarized pages 3-4\n",
      "Summarized pages 5-6\n",
      "Summarized pages 7-8\n",
      "Summarized pages 9-10\n",
      "Summarized pages 11-12\n",
      "Summarized pages 13-14\n",
      "Summarized pages 15-16\n",
      "Summarized pages 17-18\n",
      "Summarized pages 19-20\n",
      "Summarized pages 21-22\n",
      "Summarized pages 23-24\n",
      "Summarized pages 25-26\n"
     ]
    }
   ],
   "source": [
    "for i in range(0, len(docs), pages_per_call):\n",
    "        batch_docs = docs[i:i+pages_per_call]\n",
    "        chain = load_summarize_chain(llm, chain_type=\"map_reduce\", \n",
    "                                     map_prompt=map_prompt_template, \n",
    "                                     combine_prompt=reduce_prompt_template)\n",
    "        try:\n",
    "            summary += chain.run(batch_docs)\n",
    "        except Exception as e:\n",
    "            print(f\"Error during summarization of pages {i+1}-{min(i+pages_per_call, len(docs))}: {e}\")\n",
    "            continue\n",
    "\n",
    "        print(f\"Summarized pages {i+1}-{min(i+pages_per_call, len(docs))}\")\n",
    "        # time.sleep(delay) # Wait to avoid rate limits   "
   ]
  },
  {
   "cell_type": "code",
   "execution_count": 15,
   "metadata": {},
   "outputs": [],
   "source": [
    "from pprint import pprint"
   ]
  },
  {
   "cell_type": "code",
   "execution_count": 16,
   "metadata": {},
   "outputs": [
    {
     "name": "stdout",
     "output_type": "stream",
     "text": [
      "(\"The VARO Energy ESG Report 2022 highlights the company's dedication to \"\n",
      " 'environmental, social, and governance (ESG) initiatives within its '\n",
      " 'transformation strategy. It outlines proactive measures for reducing '\n",
      " 'environmental impacts, enhancing product sustainability, and lowering carbon '\n",
      " 'emissions, focusing on areas like biodiversity, waste management, health and '\n",
      " 'safety, equity, inclusion, and community engagement. \\n'\n",
      " '\\n'\n",
      " 'CEO Dev Sanyal emphasizes energy security amidst global challenges, '\n",
      " 'particularly due to the Ukraine conflict. VARO aims for net-zero emissions '\n",
      " 'by 2040 and a 40% reduction in scope 1 and 2 emissions by 2030, backed by a '\n",
      " '$3.5 billion investment plan from 2022 to 2026. The report stresses the '\n",
      " 'integration of ESG principles in decision-making and prioritizes safety and '\n",
      " 'diversity within its workforce.\\n'\n",
      " '\\n'\n",
      " 'To address evolving market challenges, VARO seeks collaboration, skill '\n",
      " 'development, and an inclusive culture, enhancing leadership diversity in the '\n",
      " 'process. The company balances conventional energy with a transition to '\n",
      " 'sustainable sources like biofuels and hydrogen, ensuring a \"just transition\" '\n",
      " 'for affected employees and communities through reskilling and stakeholder '\n",
      " 'engagement.\\n'\n",
      " '\\n'\n",
      " 'Their ONE VARO Transformation strategy aims to position the company as a '\n",
      " 'leader in the energy transition, with initiatives such as a biogas facility '\n",
      " 'in Northern Europe and a partnership with Lufthansa for Sustainable Aviation '\n",
      " 'Fuel. Overall, VARO Energy is committed to innovative solutions and '\n",
      " 'sustainable energy practices.In July 2022, VARO Energy introduced its ONE '\n",
      " 'VARO Transformation strategy, targeting net-zero emissions across its value '\n",
      " 'chain by 2040 and promoting sustainable energy solutions. The company '\n",
      " 'improved gender diversity by appointing over 50% women to key roles and '\n",
      " 'provided support to employees facing high living costs. In response to '\n",
      " 'geopolitical issues, VARO ceased sourcing Russian crude oil and diversified '\n",
      " 'its supply chain, while also supporting Ukraine.\\n'\n",
      " '\\n'\n",
      " 'Focusing on biofuels, biomethane, hydrogen, and e-mobility, VARO aims to '\n",
      " 'significantly increase production capacity in these sectors and reduce its '\n",
      " 'greenhouse gas emissions by 40% by 2030. The company emphasizes health, '\n",
      " 'safety, and environmental responsibility in its operations and fosters '\n",
      " 'collaboration with customers to achieve decarbonization goals. \\n'\n",
      " '\\n'\n",
      " \"VARO's Environmental, Social, and Governance (ESG) strategy promotes ethical \"\n",
      " 'practices and links executive compensation to ESG performance. The firm has '\n",
      " 'set ambitious targets, including a 15% reduction in carbon intensity of '\n",
      " 'products by 2030 and is implementing an internal carbon pricing mechanism to '\n",
      " 'guide investments. Overall, VARO Energy seeks to lead in reliable, '\n",
      " 'sustainable energy solutions while driving positive societal change.VARO '\n",
      " 'Energy is committed to achieving net-zero emissions and reducing its carbon '\n",
      " 'footprint through sustainable energy solutions. The company aims for a 15% '\n",
      " 'reduction in scope 3 greenhouse gas emissions intensity by 2030, focusing on '\n",
      " 'biofuels, hydrogen, and carbon removals. It engages stakeholders to identify '\n",
      " 'critical environmental, social, and governance (ESG) topics and employs a '\n",
      " '\"double materiality\" approach to assess both financial and broader impacts.\\n'\n",
      " '\\n'\n",
      " \"With a goal of net-zero emissions from its products by 2040, VARO's ONE VARO \"\n",
      " 'Transformation strategy emphasizes five growth areas: biofuels, biomethane, '\n",
      " 'hydrogen, e-mobility, and carbon removals. The company seeks to become an '\n",
      " 'integrated advanced biofuels producer, prioritizing sustainable sourcing, '\n",
      " 'and is also expanding its capabilities in biomethane, bio-LNG, and hydrogen '\n",
      " 'production. VARO aims to provide comprehensive electric vehicle charging '\n",
      " 'solutions and engage in projects like SilviCarbon for carbon removals.\\n'\n",
      " '\\n'\n",
      " 'Progress includes sourcing biofuel components from waste, contributing to '\n",
      " 'greenhouse gas savings in the EU, and acquiring companies like Bio Energy '\n",
      " 'Coevorden BV to strengthen its renewable energy portfolio by 2026. Overall, '\n",
      " 'VARO is focused on enhancing its environmental performance while driving '\n",
      " 'stakeholder engagement in its sustainable energy transition.In December '\n",
      " '2022, VARO Energy announced its acquisition of 80% of Bio Energy Coevorden '\n",
      " 'BV, a major European biogas manufacturer, with plans to boost capacity to '\n",
      " \"650 GWh by 2026. This acquisition could contribute 20-25% to the company's \"\n",
      " 'renewable energy EBITDA. VARO supplied 65 km³ of HVO biodiesel and is '\n",
      " 'pursuing partnerships for e-fuels development to aid decarbonization. The '\n",
      " 'company’s e-mobility sector is expanding through its investment in E-Flux '\n",
      " 'and carbon removal efforts in Laos and Paraguay.\\n'\n",
      " '\\n'\n",
      " 'For 2023, VARO signed a Memorandum of Understanding with Lufthansa to '\n",
      " 'investigate Sustainable Aviation Fuel production and aims for 250,000 tonnes '\n",
      " 'of advanced biofuels by 2026. The company plans to enhance hydrogen '\n",
      " 'production and provide integrated e-mobility charging solutions. VARO '\n",
      " 'targets a 40% reduction in CO2 emissions by 2030 and net-zero emissions by '\n",
      " '2040 while focusing on energy efficiency and renewable sources. However, in '\n",
      " '2022, its Scope 1 and 2 emissions rose by 22% to 1.4 million tonnes, largely '\n",
      " 'due to increased production amid Europe’s energy crisis.\\n'\n",
      " '\\n'\n",
      " \"The text further details VARO's emissions and sustainability efforts in \"\n",
      " '2022, noting a 10% decrease in total Scope 1, 2, and 3 emissions compared to '\n",
      " 'prior years, with specific improvements in energy efficiency at the Cressier '\n",
      " 'hub. Although Bayernoil saw emission increases due to heightened production, '\n",
      " 'its overall efficiency improved. VARO aspires to achieve a 40% reduction in '\n",
      " 'Scope 1 and 2 emissions by 2030 through electrification and solar projects, '\n",
      " 'among other initiatives.\\n'\n",
      " '\\n'\n",
      " 'Scope 3 emissions grew by 11% in 2022 due to increased sales. VARO is '\n",
      " 'committed to lowering carbon intensity through low-carbon fuel sales and has '\n",
      " \"formed partnerships on renewable energy projects, including Switzerland's \"\n",
      " 'largest solar farm and developing district heating systems. Overall, VARO '\n",
      " 'Energy aims to transition to a sustainable energy model while addressing its '\n",
      " 'decarbonization targets amid external challenges.VARO Energy is focused on '\n",
      " 'reducing its carbon emissions, with 16% of its total value chain emissions '\n",
      " 'originating from upstream feedstock sourcing in 2022. The company has faced '\n",
      " 'challenges due to insufficient regulatory and financial support for '\n",
      " 'emissions reduction in conventional fuels, prompting the introduction of '\n",
      " 'internal carbon pricing in 2023 to evaluate low-carbon solutions and expand '\n",
      " 'its carbon inventory.\\n'\n",
      " '\\n'\n",
      " 'In January 2023, VARO acquired a majority stake in Bio Energy Coevorden BV, '\n",
      " 'a key biogas producer in Europe, which represents a shift towards low-carbon '\n",
      " 'fuels and supports their emissions intensity targets. They aim to double the '\n",
      " \"biogas facility's production capacity to significantly lower CO2 emissions \"\n",
      " 'and enhance energy security, aspiring to achieve net-zero emissions by '\n",
      " '2040.\\n'\n",
      " '\\n'\n",
      " 'The company reported increased nitrogen oxides and other non-greenhouse gas '\n",
      " 'emissions due to operational changes from the Russian-Ukrainian conflict, '\n",
      " 'and is implementing advanced technologies to manage emissions while ensuring '\n",
      " 'environmental compliance. VARO follows a comprehensive spill prevention and '\n",
      " 'response strategy, emphasizes safety training, and engages with local '\n",
      " 'communities to manage potential environmental impacts.\\n'\n",
      " '\\n'\n",
      " \"Additionally, VARO's environmental, social, and governance (ESG) initiatives \"\n",
      " 'focus on:\\n'\n",
      " '\\n'\n",
      " '1. **Spill Prevention**: Emphasizing communication with stakeholders and '\n",
      " 'managing spills without personnel harm, learning from incidents to enhance '\n",
      " 'safety.\\n'\n",
      " '   \\n'\n",
      " '2. **Pipeline Safety**: Conducting regular pipeline inspections, replacing '\n",
      " 'damaged sections, and installing leak detection systems.\\n'\n",
      " '   \\n'\n",
      " '3. **Biodiversity**: Protecting local ecosystems with no regulatory breaches '\n",
      " 'in 2022, while actively engaging with communities.\\n'\n",
      " '   \\n'\n",
      " '4. **Waste Management**: Minimizing waste through recycling, meeting '\n",
      " 'regulatory waste management standards, and monitoring effluent discharge to '\n",
      " 'prevent pollution.\\n'\n",
      " '\\n'\n",
      " 'Overall, VARO Energy is committed to minimizing its environmental impact '\n",
      " 'through proactive measures and engagement, while ensuring operational safety '\n",
      " 'and biodiversity protection.VARO Energy emphasizes environmental '\n",
      " 'sustainability and safety in its petroleum refinery operations. The company '\n",
      " 'reduces waste by recycling and managing effluent discharges effectively; in '\n",
      " '2022, it recycled 39% of its waste at the Cressier hub. VARO is addressing '\n",
      " 'concerns related to PFAS substances and is working with authorities to '\n",
      " 'mitigate their impacts. \\n'\n",
      " '\\n'\n",
      " 'In safety, VARO achieved a Total Recordable Incident Rate (TRIR) of 0.9 in '\n",
      " '2022 with zero fatalities by implementing stringent safety protocols. The '\n",
      " 'company is also collaborating with Lufthansa Group to produce over 250,000 '\n",
      " 'tonnes of Sustainable Aviation Fuel (SAF) annually by 2026, supporting '\n",
      " 'decarbonization in aviation.\\n'\n",
      " '\\n'\n",
      " 'Additionally, VARO promotes employee health and well-being through various '\n",
      " 'initiatives and maintains emergency response plans. Despite observing an '\n",
      " 'increase in TIER 1 process safety events in 2022, the company remains '\n",
      " 'committed to enhancing safety performance. Looking ahead to 2023, VARO plans '\n",
      " 'to address risks systematically and implement new safety initiatives, '\n",
      " 'fostering a culture of continuous improvement in health, safety, and '\n",
      " 'environmental performance.In 2023, VARO is focused on enhancing transport '\n",
      " 'safety through a risk-based approach and digital tools. The company '\n",
      " 'prioritizes equity, inclusion, and diversity by aiming for a 40% female '\n",
      " 'representation in office roles and 16% in senior management. They strive for '\n",
      " 'a gender pay gap of less than 10% and have introduced a Flexible Work Policy '\n",
      " 'for better work-life balance. A 2022 Employee Satisfaction Survey indicated '\n",
      " 'a 94% voluntary retention rate and highlighted areas for improved engagement '\n",
      " 'and development. VARO is committed to fostering an inclusive environment and '\n",
      " 'aims to enhance employee satisfaction through various initiatives.\\n'\n",
      " '\\n'\n",
      " 'The company also focuses on overcoming challenges with diversity and '\n",
      " 'partnerships and has implemented measures for employee support, such as '\n",
      " 'one-off payments to lower-paid workers and a substantial training budget. '\n",
      " 'Plans for 2023 and 2024 include promoting healthy lifestyles, improving '\n",
      " 'communication, and fostering a culture of feedback.\\n'\n",
      " '\\n'\n",
      " 'In community engagement, VARO supports local projects and invests in '\n",
      " 'reducing noise pollution from operations while celebrating its 10th '\n",
      " 'anniversary through contributions to community initiatives. Overall, VARO '\n",
      " 'seeks to ensure sustainable progress and benefit local communities from its '\n",
      " 'operations.VARO Energy has engaged in various socio-cultural initiatives, '\n",
      " 'such as sponsoring music festivals and renovating public playgrounds and '\n",
      " 'sports facilities. They improved their communication through a new website '\n",
      " 'and enhanced social media presence. In 2022, they organized Zukunfstag '\n",
      " 'events for children to educate them about the energy sector and successfully '\n",
      " 'reduced noise complaints at their Cressier manufacturing hub through '\n",
      " 'effective noise control measures.\\n'\n",
      " '\\n'\n",
      " 'In response to the Ukraine war, VARO supported refugee relief efforts and '\n",
      " 'created job opportunities for refugees. Their future plans, guided by a new '\n",
      " 'ESG strategy, focus on community engagement and transitioning to low-carbon '\n",
      " 'energy, including developing district heating systems and constructing '\n",
      " 'Switzerland’s largest solar farm. The company prioritizes zero harm to '\n",
      " 'people and the environment, aligns with ISO standards for quality and '\n",
      " 'environmental management, and adheres to policies on ethical conduct, '\n",
      " 'inclusion, and data privacy.\\n'\n",
      " '\\n'\n",
      " 'The governance structure of VARO includes a two-tier board system composed '\n",
      " 'of a Supervisory Board (SB) and an Executive Board (EB). The SB oversees ESG '\n",
      " 'strategies, while the EB manages operational tasks, setting strategic '\n",
      " 'objectives and handling risks. Various committees, including the Audit and '\n",
      " 'Remuneration Committees, support these roles. ESG considerations are '\n",
      " 'integrated into the Enterprise Risk Management framework, especially '\n",
      " 'regarding climate change and energy transition risks. VARO plans to enhance '\n",
      " 'its climate risk analysis in line with sustainability reporting '\n",
      " 'standards.VARO Energy is enhancing its Enterprise Risk Management (ERM) by '\n",
      " 'incorporating physical climate risks and conducting Climate Scenario '\n",
      " 'Analysis based on TCFD recommendations over the next two years. The company '\n",
      " 'is addressing external market risks, such as oil product price fluctuations '\n",
      " 'influenced by geopolitical factors, by creating a cross-functional team to '\n",
      " 'monitor developments and ensure compliance with sanctions, notably replacing '\n",
      " 'Russian crude oil since February 2022.\\n'\n",
      " '\\n'\n",
      " 'The company prioritizes ethical practices and regulatory compliance, with a '\n",
      " 'transparent approach to addressing violations. It places importance on '\n",
      " 'cybersecurity and has implemented a comprehensive crisis management plan, '\n",
      " 'which includes regular emergency response training, having conducted '\n",
      " 'significant drills in 2022. VARO emphasizes ethical conduct through '\n",
      " 'compliance training, anti-corruption measures, and a Whistleblower Policy '\n",
      " 'enabling anonymous reporting of concerns.\\n'\n",
      " '\\n'\n",
      " 'In 2022, 84.2% of employees completed Code of Conduct training, and there '\n",
      " 'were no breaches of the Know Your Customer (KYC) policy by business '\n",
      " 'partners. The company aligns its operations with UN principles on human '\n",
      " 'rights and workplace standards, with a grievance mechanism holding three '\n",
      " 'reported cases that were resolved in 2022.\\n'\n",
      " '\\n'\n",
      " \"The report outlines VARO's greenhouse gas emissions reporting following the \"\n",
      " 'Greenhouse Gas Protocol standards, along with sections on its Environmental, '\n",
      " 'Social, and Governance (ESG) approach, sustainability management, and an '\n",
      " 'appendix summarizing key performance indicators.The text summarizes updates '\n",
      " 'from VARO Energy regarding its Bayernoil joint venture and its environmental '\n",
      " 'and employee performance metrics from 2020 to 2022. In 2022, VARO improved '\n",
      " 'control over manufacturing rates and emissions reporting, leading to a '\n",
      " 'restatement of 2021 data. Notable emissions metrics showed an increase in '\n",
      " 'Scope 1 and 2 emissions from 52.38% in 2021 to 56.64% in 2022, with direct '\n",
      " 'GHG emissions from Bayernoil rising significantly to 788,815 tonnes. Overall '\n",
      " 'direct GHG emissions totaled 1,217,116 metric tonnes in 2022, indicating '\n",
      " 'increases in various environmental metrics.\\n'\n",
      " '\\n'\n",
      " 'Employee and safety metrics revealed 248.5 lost workdays in 2022, with no '\n",
      " 'high-consequence injuries for employees but three for contractors. The Total '\n",
      " 'Recordable Work-related Injury Rate decreased, while Tier 1 process safety '\n",
      " \"events rose to five, and significant oil spills increased to 18. VARO's \"\n",
      " 'workforce consisted of 1,329 individuals, with a notable male majority and '\n",
      " 'high turnover rates among employees aged 30-50. Parental leave retention was '\n",
      " 'strong at 91%. However, governance diversity remains low, with no women on '\n",
      " 'the supervisory board and only one female in the executive board. Overall, '\n",
      " 'while VARO shows progress in certain areas, it needs to enhance diversity '\n",
      " 'and workplace safety further.The text summarizes workforce demographics and '\n",
      " 'management levels at VARO Energy for 2020 and 2021, noting a significant age '\n",
      " 'and gender disparity, particularly in senior management positions which were '\n",
      " 'predominantly male. In 2021, 45% of senior managers were over 50 years old. '\n",
      " \"It also details VARO's adherence to Global Reporting Initiative (GRI) \"\n",
      " 'standards for sustainability, covering operations in Europe, governance, and '\n",
      " 'employee engagement, along with their \"ONE VARO Transformation strategy\" '\n",
      " 'aimed at sustainable development.\\n'\n",
      " '\\n'\n",
      " \"Additionally, the document describes VARO's materiality assessment process \"\n",
      " 'and highlights key sustainability topics such as anti-corruption, greenhouse '\n",
      " 'gas emissions, energy consumption, and waste management, reporting no '\n",
      " 'incidences of corruption or anti-competitive behavior in 2022. It notes some '\n",
      " 'gaps in data regarding energy, water, and waste management metrics. The '\n",
      " \"report emphasizes VARO's commitment to Environmental, Social, and Governance \"\n",
      " '(ESG) practices while detailing their strategies for reducing emissions and '\n",
      " 'fostering environmental sustainability through partnerships and product '\n",
      " \"offerings.The text summarizes VARO Energy's ESG (Environmental, Social, and \"\n",
      " 'Governance) report, focusing on key areas such as waste management, oil '\n",
      " 'spill prevention, employment practices, occupational health and safety, '\n",
      " 'diversity and inclusion, local community engagement, and other non-financial '\n",
      " 'impacts. Key points include:\\n'\n",
      " '\\n'\n",
      " '- Waste management practices, though with some incomplete information.\\n'\n",
      " '- Strategies for preventing oil spills and managing crises.\\n'\n",
      " '- Employment statistics showing consistency in benefits across contract '\n",
      " 'types and data on new hires and turnover.\\n'\n",
      " '- Occupational health and safety measures and incident investigations.\\n'\n",
      " '- Diversity metrics reflecting governance and workforce representation, with '\n",
      " 'no reported discrimination incidents in 2022.\\n'\n",
      " '- Low-risk assessments for topics like forced labor and land rights.\\n'\n",
      " '\\n'\n",
      " 'The report aligns with TCFD recommendations on governance, strategy, risk '\n",
      " 'management, and climate-related targets. Additionally, it notes VARO '\n",
      " \"Energy's participation in various industry associations across Switzerland, \"\n",
      " 'Germany, the Netherlands, Belgium, and France, focusing on sustainable '\n",
      " 'business practices, energy security, and advocacy for low-carbon and liquid '\n",
      " 'fuel initiatives. These associations collectively aim to represent industry '\n",
      " 'interests and promote sustainability.The text discusses various member '\n",
      " 'organizations involved in energy and environmental governance in Europe, '\n",
      " 'highlighting key members such as ATEE France, USI France, FF3C France, FFPI '\n",
      " 'France, the World Biogas Association (UK), and UPEI. It also includes a '\n",
      " 'glossary of terms related to energy governance, covering topics such as fuel '\n",
      " 'types and safety standards.\\n'\n",
      " '\\n'\n",
      " 'Additionally, the text details an assurance engagement conducted by Ernst & '\n",
      " \"Young Accountants LLP, which evaluated VARO Energy's 2022 Environmental, \"\n",
      " 'Social, and Governance (ESG) report, confirming compliance with '\n",
      " 'sustainability reporting criteria. The engagement focused on providing a '\n",
      " 'lower level of assurance and involved procedures like management interviews '\n",
      " 'and document reviews. The report, dated July 13, 2023, reflects '\n",
      " 'collaboration between VARO Energy and Ernst & Young to enhance transparency '\n",
      " 'and accountability in sustainability practices.')\n"
     ]
    }
   ],
   "source": [
    "pprint(summary)"
   ]
  },
  {
   "cell_type": "code",
   "execution_count": 17,
   "metadata": {},
   "outputs": [
    {
     "data": {
      "text/plain": [
       "'The VARO Energy ESG Report 2022 highlights the company\\'s dedication to environmental, social, and governance (ESG) initiatives within its transformation strategy. It outlines proactive measures for reducing environmental impacts, enhancing product sustainability, and lowering carbon emissions, focusing on areas like biodiversity, waste management, health and safety, equity, inclusion, and community engagement. \\n\\nCEO Dev Sanyal emphasizes energy security amidst global challenges, particularly due to the Ukraine conflict. VARO aims for net-zero emissions by 2040 and a 40% reduction in scope 1 and 2 emissions by 2030, backed by a $3.5 billion investment plan from 2022 to 2026. The report stresses the integration of ESG principles in decision-making and prioritizes safety and diversity within its workforce.\\n\\nTo address evolving market challenges, VARO seeks collaboration, skill development, and an inclusive culture, enhancing leadership diversity in the process. The company balances conventional energy with a transition to sustainable sources like biofuels and hydrogen, ensuring a \"just transition\" for affected employees and communities through reskilling and stakeholder engagement.\\n\\nTheir ONE VARO Transformation strategy aims to position the company as a leader in the energy transition, with initiatives such as a biogas facility in Northern Europe and a partnership with Lufthansa for Sustainable Aviation Fuel. Overall, VARO Energy is committed to innovative solutions and sustainable energy practices.In July 2022, VARO Energy introduced its ONE VARO Transformation strategy, targeting net-zero emissions across its value chain by 2040 and promoting sustainable energy solutions. The company improved gender diversity by appointing over 50% women to key roles and provided support to employees facing high living costs. In response to geopolitical issues, VARO ceased sourcing Russian crude oil and diversified its supply chain, while also supporting Ukraine.\\n\\nFocusing on biofuels, biomethane, hydrogen, and e-mobility, VARO aims to significantly increase production capacity in these sectors and reduce its greenhouse gas emissions by 40% by 2030. The company emphasizes health, safety, and environmental responsibility in its operations and fosters collaboration with customers to achieve decarbonization goals. \\n\\nVARO\\'s Environmental, Social, and Governance (ESG) strategy promotes ethical practices and links executive compensation to ESG performance. The firm has set ambitious targets, including a 15% reduction in carbon intensity of products by 2030 and is implementing an internal carbon pricing mechanism to guide investments. Overall, VARO Energy seeks to lead in reliable, sustainable energy solutions while driving positive societal change.VARO Energy is committed to achieving net-zero emissions and reducing its carbon footprint through sustainable energy solutions. The company aims for a 15% reduction in scope 3 greenhouse gas emissions intensity by 2030, focusing on biofuels, hydrogen, and carbon removals. It engages stakeholders to identify critical environmental, social, and governance (ESG) topics and employs a \"double materiality\" approach to assess both financial and broader impacts.\\n\\nWith a goal of net-zero emissions from its products by 2040, VARO\\'s ONE VARO Transformation strategy emphasizes five growth areas: biofuels, biomethane, hydrogen, e-mobility, and carbon removals. The company seeks to become an integrated advanced biofuels producer, prioritizing sustainable sourcing, and is also expanding its capabilities in biomethane, bio-LNG, and hydrogen production. VARO aims to provide comprehensive electric vehicle charging solutions and engage in projects like SilviCarbon for carbon removals.\\n\\nProgress includes sourcing biofuel components from waste, contributing to greenhouse gas savings in the EU, and acquiring companies like Bio Energy Coevorden BV to strengthen its renewable energy portfolio by 2026. Overall, VARO is focused on enhancing its environmental performance while driving stakeholder engagement in its sustainable energy transition.In December 2022, VARO Energy announced its acquisition of 80% of Bio Energy Coevorden BV, a major European biogas manufacturer, with plans to boost capacity to 650 GWh by 2026. This acquisition could contribute 20-25% to the company\\'s renewable energy EBITDA. VARO supplied 65 km³ of HVO biodiesel and is pursuing partnerships for e-fuels development to aid decarbonization. The company’s e-mobility sector is expanding through its investment in E-Flux and carbon removal efforts in Laos and Paraguay.\\n\\nFor 2023, VARO signed a Memorandum of Understanding with Lufthansa to investigate Sustainable Aviation Fuel production and aims for 250,000 tonnes of advanced biofuels by 2026. The company plans to enhance hydrogen production and provide integrated e-mobility charging solutions. VARO targets a 40% reduction in CO2 emissions by 2030 and net-zero emissions by 2040 while focusing on energy efficiency and renewable sources. However, in 2022, its Scope 1 and 2 emissions rose by 22% to 1.4 million tonnes, largely due to increased production amid Europe’s energy crisis.\\n\\nThe text further details VARO\\'s emissions and sustainability efforts in 2022, noting a 10% decrease in total Scope 1, 2, and 3 emissions compared to prior years, with specific improvements in energy efficiency at the Cressier hub. Although Bayernoil saw emission increases due to heightened production, its overall efficiency improved. VARO aspires to achieve a 40% reduction in Scope 1 and 2 emissions by 2030 through electrification and solar projects, among other initiatives.\\n\\nScope 3 emissions grew by 11% in 2022 due to increased sales. VARO is committed to lowering carbon intensity through low-carbon fuel sales and has formed partnerships on renewable energy projects, including Switzerland\\'s largest solar farm and developing district heating systems. Overall, VARO Energy aims to transition to a sustainable energy model while addressing its decarbonization targets amid external challenges.VARO Energy is focused on reducing its carbon emissions, with 16% of its total value chain emissions originating from upstream feedstock sourcing in 2022. The company has faced challenges due to insufficient regulatory and financial support for emissions reduction in conventional fuels, prompting the introduction of internal carbon pricing in 2023 to evaluate low-carbon solutions and expand its carbon inventory.\\n\\nIn January 2023, VARO acquired a majority stake in Bio Energy Coevorden BV, a key biogas producer in Europe, which represents a shift towards low-carbon fuels and supports their emissions intensity targets. They aim to double the biogas facility\\'s production capacity to significantly lower CO2 emissions and enhance energy security, aspiring to achieve net-zero emissions by 2040.\\n\\nThe company reported increased nitrogen oxides and other non-greenhouse gas emissions due to operational changes from the Russian-Ukrainian conflict, and is implementing advanced technologies to manage emissions while ensuring environmental compliance. VARO follows a comprehensive spill prevention and response strategy, emphasizes safety training, and engages with local communities to manage potential environmental impacts.\\n\\nAdditionally, VARO\\'s environmental, social, and governance (ESG) initiatives focus on:\\n\\n1. **Spill Prevention**: Emphasizing communication with stakeholders and managing spills without personnel harm, learning from incidents to enhance safety.\\n   \\n2. **Pipeline Safety**: Conducting regular pipeline inspections, replacing damaged sections, and installing leak detection systems.\\n   \\n3. **Biodiversity**: Protecting local ecosystems with no regulatory breaches in 2022, while actively engaging with communities.\\n   \\n4. **Waste Management**: Minimizing waste through recycling, meeting regulatory waste management standards, and monitoring effluent discharge to prevent pollution.\\n\\nOverall, VARO Energy is committed to minimizing its environmental impact through proactive measures and engagement, while ensuring operational safety and biodiversity protection.VARO Energy emphasizes environmental sustainability and safety in its petroleum refinery operations. The company reduces waste by recycling and managing effluent discharges effectively; in 2022, it recycled 39% of its waste at the Cressier hub. VARO is addressing concerns related to PFAS substances and is working with authorities to mitigate their impacts. \\n\\nIn safety, VARO achieved a Total Recordable Incident Rate (TRIR) of 0.9 in 2022 with zero fatalities by implementing stringent safety protocols. The company is also collaborating with Lufthansa Group to produce over 250,000 tonnes of Sustainable Aviation Fuel (SAF) annually by 2026, supporting decarbonization in aviation.\\n\\nAdditionally, VARO promotes employee health and well-being through various initiatives and maintains emergency response plans. Despite observing an increase in TIER 1 process safety events in 2022, the company remains committed to enhancing safety performance. Looking ahead to 2023, VARO plans to address risks systematically and implement new safety initiatives, fostering a culture of continuous improvement in health, safety, and environmental performance.In 2023, VARO is focused on enhancing transport safety through a risk-based approach and digital tools. The company prioritizes equity, inclusion, and diversity by aiming for a 40% female representation in office roles and 16% in senior management. They strive for a gender pay gap of less than 10% and have introduced a Flexible Work Policy for better work-life balance. A 2022 Employee Satisfaction Survey indicated a 94% voluntary retention rate and highlighted areas for improved engagement and development. VARO is committed to fostering an inclusive environment and aims to enhance employee satisfaction through various initiatives.\\n\\nThe company also focuses on overcoming challenges with diversity and partnerships and has implemented measures for employee support, such as one-off payments to lower-paid workers and a substantial training budget. Plans for 2023 and 2024 include promoting healthy lifestyles, improving communication, and fostering a culture of feedback.\\n\\nIn community engagement, VARO supports local projects and invests in reducing noise pollution from operations while celebrating its 10th anniversary through contributions to community initiatives. Overall, VARO seeks to ensure sustainable progress and benefit local communities from its operations.VARO Energy has engaged in various socio-cultural initiatives, such as sponsoring music festivals and renovating public playgrounds and sports facilities. They improved their communication through a new website and enhanced social media presence. In 2022, they organized Zukunfstag events for children to educate them about the energy sector and successfully reduced noise complaints at their Cressier manufacturing hub through effective noise control measures.\\n\\nIn response to the Ukraine war, VARO supported refugee relief efforts and created job opportunities for refugees. Their future plans, guided by a new ESG strategy, focus on community engagement and transitioning to low-carbon energy, including developing district heating systems and constructing Switzerland’s largest solar farm. The company prioritizes zero harm to people and the environment, aligns with ISO standards for quality and environmental management, and adheres to policies on ethical conduct, inclusion, and data privacy.\\n\\nThe governance structure of VARO includes a two-tier board system composed of a Supervisory Board (SB) and an Executive Board (EB). The SB oversees ESG strategies, while the EB manages operational tasks, setting strategic objectives and handling risks. Various committees, including the Audit and Remuneration Committees, support these roles. ESG considerations are integrated into the Enterprise Risk Management framework, especially regarding climate change and energy transition risks. VARO plans to enhance its climate risk analysis in line with sustainability reporting standards.VARO Energy is enhancing its Enterprise Risk Management (ERM) by incorporating physical climate risks and conducting Climate Scenario Analysis based on TCFD recommendations over the next two years. The company is addressing external market risks, such as oil product price fluctuations influenced by geopolitical factors, by creating a cross-functional team to monitor developments and ensure compliance with sanctions, notably replacing Russian crude oil since February 2022.\\n\\nThe company prioritizes ethical practices and regulatory compliance, with a transparent approach to addressing violations. It places importance on cybersecurity and has implemented a comprehensive crisis management plan, which includes regular emergency response training, having conducted significant drills in 2022. VARO emphasizes ethical conduct through compliance training, anti-corruption measures, and a Whistleblower Policy enabling anonymous reporting of concerns.\\n\\nIn 2022, 84.2% of employees completed Code of Conduct training, and there were no breaches of the Know Your Customer (KYC) policy by business partners. The company aligns its operations with UN principles on human rights and workplace standards, with a grievance mechanism holding three reported cases that were resolved in 2022.\\n\\nThe report outlines VARO\\'s greenhouse gas emissions reporting following the Greenhouse Gas Protocol standards, along with sections on its Environmental, Social, and Governance (ESG) approach, sustainability management, and an appendix summarizing key performance indicators.The text summarizes updates from VARO Energy regarding its Bayernoil joint venture and its environmental and employee performance metrics from 2020 to 2022. In 2022, VARO improved control over manufacturing rates and emissions reporting, leading to a restatement of 2021 data. Notable emissions metrics showed an increase in Scope 1 and 2 emissions from 52.38% in 2021 to 56.64% in 2022, with direct GHG emissions from Bayernoil rising significantly to 788,815 tonnes. Overall direct GHG emissions totaled 1,217,116 metric tonnes in 2022, indicating increases in various environmental metrics.\\n\\nEmployee and safety metrics revealed 248.5 lost workdays in 2022, with no high-consequence injuries for employees but three for contractors. The Total Recordable Work-related Injury Rate decreased, while Tier 1 process safety events rose to five, and significant oil spills increased to 18. VARO\\'s workforce consisted of 1,329 individuals, with a notable male majority and high turnover rates among employees aged 30-50. Parental leave retention was strong at 91%. However, governance diversity remains low, with no women on the supervisory board and only one female in the executive board. Overall, while VARO shows progress in certain areas, it needs to enhance diversity and workplace safety further.The text summarizes workforce demographics and management levels at VARO Energy for 2020 and 2021, noting a significant age and gender disparity, particularly in senior management positions which were predominantly male. In 2021, 45% of senior managers were over 50 years old. It also details VARO\\'s adherence to Global Reporting Initiative (GRI) standards for sustainability, covering operations in Europe, governance, and employee engagement, along with their \"ONE VARO Transformation strategy\" aimed at sustainable development.\\n\\nAdditionally, the document describes VARO\\'s materiality assessment process and highlights key sustainability topics such as anti-corruption, greenhouse gas emissions, energy consumption, and waste management, reporting no incidences of corruption or anti-competitive behavior in 2022. It notes some gaps in data regarding energy, water, and waste management metrics. The report emphasizes VARO\\'s commitment to Environmental, Social, and Governance (ESG) practices while detailing their strategies for reducing emissions and fostering environmental sustainability through partnerships and product offerings.The text summarizes VARO Energy\\'s ESG (Environmental, Social, and Governance) report, focusing on key areas such as waste management, oil spill prevention, employment practices, occupational health and safety, diversity and inclusion, local community engagement, and other non-financial impacts. Key points include:\\n\\n- Waste management practices, though with some incomplete information.\\n- Strategies for preventing oil spills and managing crises.\\n- Employment statistics showing consistency in benefits across contract types and data on new hires and turnover.\\n- Occupational health and safety measures and incident investigations.\\n- Diversity metrics reflecting governance and workforce representation, with no reported discrimination incidents in 2022.\\n- Low-risk assessments for topics like forced labor and land rights.\\n\\nThe report aligns with TCFD recommendations on governance, strategy, risk management, and climate-related targets. Additionally, it notes VARO Energy\\'s participation in various industry associations across Switzerland, Germany, the Netherlands, Belgium, and France, focusing on sustainable business practices, energy security, and advocacy for low-carbon and liquid fuel initiatives. These associations collectively aim to represent industry interests and promote sustainability.The text discusses various member organizations involved in energy and environmental governance in Europe, highlighting key members such as ATEE France, USI France, FF3C France, FFPI France, the World Biogas Association (UK), and UPEI. It also includes a glossary of terms related to energy governance, covering topics such as fuel types and safety standards.\\n\\nAdditionally, the text details an assurance engagement conducted by Ernst & Young Accountants LLP, which evaluated VARO Energy\\'s 2022 Environmental, Social, and Governance (ESG) report, confirming compliance with sustainability reporting criteria. The engagement focused on providing a lower level of assurance and involved procedures like management interviews and document reviews. The report, dated July 13, 2023, reflects collaboration between VARO Energy and Ernst & Young to enhance transparency and accountability in sustainability practices.'"
      ]
     },
     "execution_count": 17,
     "metadata": {},
     "output_type": "execute_result"
    }
   ],
   "source": [
    "summary"
   ]
  }
 ],
 "metadata": {
  "kernelspec": {
   "display_name": ".venv",
   "language": "python",
   "name": "python3"
  },
  "language_info": {
   "codemirror_mode": {
    "name": "ipython",
    "version": 3
   },
   "file_extension": ".py",
   "mimetype": "text/x-python",
   "name": "python",
   "nbconvert_exporter": "python",
   "pygments_lexer": "ipython3",
   "version": "3.11.6"
  }
 },
 "nbformat": 4,
 "nbformat_minor": 2
}
