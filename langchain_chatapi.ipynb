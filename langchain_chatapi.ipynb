{
 "cells": [
  {
   "cell_type": "code",
   "execution_count": 1,
   "metadata": {},
   "outputs": [
    {
     "data": {
      "text/plain": [
       "'What day comes after Friday?'"
      ]
     },
     "execution_count": 1,
     "metadata": {},
     "output_type": "execute_result"
    }
   ],
   "source": [
    "# You'll be working with simple strings (that'll soon grow in complexity!)\n",
    "my_text = \"What day comes after Friday?\"\n",
    "my_text"
   ]
  },
  {
   "cell_type": "code",
   "execution_count": 3,
   "metadata": {},
   "outputs": [],
   "source": [
    "from config import *\n",
    "import os\n",
    "from langchain_openai import AzureChatOpenAI\n",
    "from langchain import LLMChain\n",
    "from langchain import PromptTemplate\n",
    "from langchain.prompts.chat import (\n",
    "    ChatPromptTemplate,\n",
    "    SystemMessagePromptTemplate,\n",
    "    AIMessagePromptTemplate,\n",
    "    HumanMessagePromptTemplate,\n",
    ")\n",
    "from langchain.schema import (\n",
    "    AIMessage,\n",
    "    HumanMessage,\n",
    "    SystemMessage\n",
    ")"
   ]
  },
  {
   "cell_type": "code",
   "execution_count": 4,
   "metadata": {},
   "outputs": [],
   "source": [
    "os.environ[\"OPENAI_API_VERSION\"] = \"2023-05-15\"\n",
    "os.environ[\"AZURE_OPENAI_ENDPOINT\"] = AZURE_OPENAI_ENDPOINT\n",
    "os.environ[\"AZURE_OPENAI_API_KEY\"] = AZURE_OPENAI_KEY"
   ]
  },
  {
   "cell_type": "code",
   "execution_count": 5,
   "metadata": {},
   "outputs": [],
   "source": [
    "chat = AzureChatOpenAI(deployment_name = AZURE_OPENAI_DEPLOYMENT_GPT_4O_ID,\n",
    "                      model=\"gpt-4o-mini\")"
   ]
  },
  {
   "cell_type": "code",
   "execution_count": 6,
   "metadata": {},
   "outputs": [
    {
     "name": "stderr",
     "output_type": "stream",
     "text": [
      "C:\\Users\\Ambarish Ganguly\\AppData\\Local\\Temp\\ipykernel_11844\\3166806398.py:5: LangChainDeprecationWarning: The method `BaseChatModel.__call__` was deprecated in langchain-core 0.1.7 and will be removed in 1.0. Use :meth:`~invoke` instead.\n",
      "  response = chat(messages)\n"
     ]
    },
    {
     "name": "stdout",
     "output_type": "stream",
     "text": [
      "content='I hate programming.' additional_kwargs={'refusal': None} response_metadata={'token_usage': {'completion_tokens': 5, 'prompt_tokens': 23, 'total_tokens': 28, 'completion_tokens_details': {'accepted_prediction_tokens': 0, 'audio_tokens': 0, 'reasoning_tokens': 0, 'rejected_prediction_tokens': 0}, 'prompt_tokens_details': {'audio_tokens': 0, 'cached_tokens': 0}}, 'model_name': 'gpt-4o-mini-2024-07-18', 'system_fingerprint': 'fp_b705f0c291', 'finish_reason': 'stop', 'logprobs': None, 'content_filter_results': {}} id='run-1c727bed-95aa-42f9-a589-6af0656c9636-0' usage_metadata={'input_tokens': 23, 'output_tokens': 5, 'total_tokens': 28, 'input_token_details': {'audio': 0, 'cache_read': 0}, 'output_token_details': {'audio': 0, 'reasoning': 0}}\n"
     ]
    }
   ],
   "source": [
    "messages = [\n",
    "    SystemMessage(content=\"Say the opposite of what the user says\"),\n",
    "    HumanMessage(content=\"I love programming.\")\n",
    "]\n",
    "response = chat(messages)\n",
    "print(response)"
   ]
  },
  {
   "cell_type": "code",
   "execution_count": 7,
   "metadata": {},
   "outputs": [
    {
     "name": "stdout",
     "output_type": "stream",
     "text": [
      "I hate programming.\n"
     ]
    }
   ],
   "source": [
    "print(response.content)"
   ]
  },
  {
   "cell_type": "code",
   "execution_count": 8,
   "metadata": {},
   "outputs": [
    {
     "name": "stdout",
     "output_type": "stream",
     "text": [
      "{'completion_tokens': 5, 'prompt_tokens': 23, 'total_tokens': 28, 'completion_tokens_details': {'accepted_prediction_tokens': 0, 'audio_tokens': 0, 'reasoning_tokens': 0, 'rejected_prediction_tokens': 0}, 'prompt_tokens_details': {'audio_tokens': 0, 'cached_tokens': 0}}\n"
     ]
    }
   ],
   "source": [
    "print(response.response_metadata[\"token_usage\"])"
   ]
  },
  {
   "cell_type": "code",
   "execution_count": 9,
   "metadata": {},
   "outputs": [
    {
     "data": {
      "text/plain": [
       "AIMessage(content='The moon is not out.', additional_kwargs={'refusal': None}, response_metadata={'token_usage': {'completion_tokens': 7, 'prompt_tokens': 39, 'total_tokens': 46, 'completion_tokens_details': {'accepted_prediction_tokens': 0, 'audio_tokens': 0, 'reasoning_tokens': 0, 'rejected_prediction_tokens': 0}, 'prompt_tokens_details': {'audio_tokens': 0, 'cached_tokens': 0}}, 'model_name': 'gpt-4o-mini-2024-07-18', 'system_fingerprint': 'fp_b705f0c291', 'finish_reason': 'stop', 'logprobs': None, 'content_filter_results': {}}, id='run-c3fa7b6a-28cd-4f67-abf6-86109747094e-0', usage_metadata={'input_tokens': 39, 'output_tokens': 7, 'total_tokens': 46, 'input_token_details': {'audio': 0, 'cache_read': 0}, 'output_token_details': {'audio': 0, 'reasoning': 0}})"
      ]
     },
     "execution_count": 9,
     "metadata": {},
     "output_type": "execute_result"
    }
   ],
   "source": [
    "messages = [\n",
    "    SystemMessage(content=\"Say the opposite of what the user says\"),\n",
    "    HumanMessage(content=\"I love programming.\"),\n",
    "    AIMessage(content='I hate programming.'),\n",
    "    HumanMessage(content=\"The moon is out\")\n",
    "]\n",
    "chat(messages)"
   ]
  },
  {
   "cell_type": "code",
   "execution_count": 10,
   "metadata": {},
   "outputs": [
    {
     "data": {
      "text/plain": [
       "AIMessage(content='The last thing you said was that you hate programming.', additional_kwargs={'refusal': None}, response_metadata={'token_usage': {'completion_tokens': 12, 'prompt_tokens': 44, 'total_tokens': 56, 'completion_tokens_details': {'accepted_prediction_tokens': 0, 'audio_tokens': 0, 'reasoning_tokens': 0, 'rejected_prediction_tokens': 0}, 'prompt_tokens_details': {'audio_tokens': 0, 'cached_tokens': 0}}, 'model_name': 'gpt-4o-mini-2024-07-18', 'system_fingerprint': 'fp_b705f0c291', 'finish_reason': 'stop', 'logprobs': None, 'content_filter_results': {}}, id='run-9c73acfb-5a3e-44ba-9b90-da952b7bf2b7-0', usage_metadata={'input_tokens': 44, 'output_tokens': 12, 'total_tokens': 56, 'input_token_details': {'audio': 0, 'cache_read': 0}, 'output_token_details': {'audio': 0, 'reasoning': 0}})"
      ]
     },
     "execution_count": 10,
     "metadata": {},
     "output_type": "execute_result"
    }
   ],
   "source": [
    "messages = [\n",
    "    SystemMessage(content=\"Say the opposite of what the user says\"),\n",
    "    HumanMessage(content=\"I love programming.\"),\n",
    "    AIMessage(content='I hate programming.'),\n",
    "    HumanMessage(content=\"What is the first thing that I said?\")\n",
    "]\n",
    "chat(messages)"
   ]
  },
  {
   "cell_type": "code",
   "execution_count": 11,
   "metadata": {},
   "outputs": [],
   "source": [
    "batch_messages = [\n",
    "    [\n",
    "        SystemMessage(content=\"You are a helpful word machine that creates an alliteration using a base word\"),\n",
    "        HumanMessage(content=\"Base word: Apple\")\n",
    "    ],\n",
    "    [\n",
    "        SystemMessage(content=\"You are a helpful word machine that creates an alliteration using a base word\"),\n",
    "        HumanMessage(content=\"Base word: Dog\")\n",
    "    ],\n",
    "]\n",
    "response = chat.generate(batch_messages)"
   ]
  },
  {
   "cell_type": "code",
   "execution_count": 12,
   "metadata": {},
   "outputs": [],
   "source": [
    "# Make SystemMessagePromptTemplate\n",
    "prompt=PromptTemplate(\n",
    "    template=\"Propose creative ways to incorporate {food_1} and {food_2} in the cuisine of the users choice.\",\n",
    "    input_variables=[\"food_1\", \"food_2\"]\n",
    ")\n",
    "\n",
    "system_message_prompt = SystemMessagePromptTemplate(prompt=prompt)"
   ]
  },
  {
   "cell_type": "code",
   "execution_count": 13,
   "metadata": {},
   "outputs": [
    {
     "data": {
      "text/plain": [
       "SystemMessagePromptTemplate(prompt=PromptTemplate(input_variables=['food_1', 'food_2'], input_types={}, partial_variables={}, template='Propose creative ways to incorporate {food_1} and {food_2} in the cuisine of the users choice.'), additional_kwargs={})"
      ]
     },
     "execution_count": 13,
     "metadata": {},
     "output_type": "execute_result"
    }
   ],
   "source": [
    "system_message_prompt"
   ]
  },
  {
   "cell_type": "code",
   "execution_count": 14,
   "metadata": {},
   "outputs": [
    {
     "data": {
      "text/plain": [
       "SystemMessage(content='Propose creative ways to incorporate Bacon and Shrimp in the cuisine of the users choice.', additional_kwargs={}, response_metadata={})"
      ]
     },
     "execution_count": 14,
     "metadata": {},
     "output_type": "execute_result"
    }
   ],
   "source": [
    "# Output of system_message_prompt\n",
    "system_message_prompt.format(food_1=\"Bacon\", food_2=\"Shrimp\")"
   ]
  },
  {
   "cell_type": "code",
   "execution_count": 15,
   "metadata": {},
   "outputs": [],
   "source": [
    "# Make HumanMessagePromptTemplate\n",
    "human_template=\"{text}\"\n",
    "human_message_prompt = HumanMessagePromptTemplate.from_template(human_template)"
   ]
  },
  {
   "cell_type": "code",
   "execution_count": 16,
   "metadata": {},
   "outputs": [
    {
     "data": {
      "text/plain": [
       "ChatPromptTemplate(input_variables=['food_1', 'food_2', 'text'], input_types={}, partial_variables={}, messages=[SystemMessagePromptTemplate(prompt=PromptTemplate(input_variables=['food_1', 'food_2'], input_types={}, partial_variables={}, template='Propose creative ways to incorporate {food_1} and {food_2} in the cuisine of the users choice.'), additional_kwargs={}), HumanMessagePromptTemplate(prompt=PromptTemplate(input_variables=['text'], input_types={}, partial_variables={}, template='{text}'), additional_kwargs={})])"
      ]
     },
     "execution_count": 16,
     "metadata": {},
     "output_type": "execute_result"
    }
   ],
   "source": [
    "# Create ChatPromptTemplate: Combine System + Human\n",
    "chat_prompt = ChatPromptTemplate.from_messages([system_message_prompt, human_message_prompt])\n",
    "chat_prompt"
   ]
  },
  {
   "cell_type": "code",
   "execution_count": 17,
   "metadata": {},
   "outputs": [],
   "source": [
    "chat_prompt_with_values = chat_prompt.format_prompt(food_1=\"Bacon\", \\\n",
    "                                                   food_2=\"Shrimp\", \\\n",
    "                                                   text=\"I really like food from Germany.\")"
   ]
  },
  {
   "cell_type": "code",
   "execution_count": 18,
   "metadata": {},
   "outputs": [
    {
     "data": {
      "text/plain": [
       "[SystemMessage(content='Propose creative ways to incorporate Bacon and Shrimp in the cuisine of the users choice.', additional_kwargs={}, response_metadata={}),\n",
       " HumanMessage(content='I really like food from Germany.', additional_kwargs={}, response_metadata={})]"
      ]
     },
     "execution_count": 18,
     "metadata": {},
     "output_type": "execute_result"
    }
   ],
   "source": [
    "chat_prompt_with_values.to_messages()"
   ]
  },
  {
   "cell_type": "code",
   "execution_count": 19,
   "metadata": {},
   "outputs": [
    {
     "name": "stdout",
     "output_type": "stream",
     "text": [
      "Incorporating bacon and shrimp into German cuisine can yield some exciting and delicious results. Here are a few creative dish ideas:\n",
      "\n",
      "1. **Bacon-Wrapped Shrimp Sauerkraut Rolls**: Instead of traditional stuffed cabbage rolls, use bacon-wrapped shrimp. Fill each roll with a mixture of sauerkraut, carrots, and spices, and then wrap each shrimp in bacon before placing it in the roll. Bake until the bacon is crispy and the flavors meld together.\n",
      "\n",
      "2. **Shrimp and Bacon Spätzle**: Prepare classic German spätzle (egg noodles) from scratch or buy them pre-made. Sauté diced bacon until crispy, then add shrimp and cook until pink. Toss the shrimp and bacon mixture with spätzle and serve with a creamy garlic or dill sauce for a delicious twist on this traditional comfort food.\n",
      "\n",
      "3. **Bacon and Shrimp Pretzel Bites**: Make dough for traditional German pretzels and incorporate chopped, cooked bacon and small shrimp into the dough before shaping. Bake and serve warm with a cheesy beer dip or a spicy mustard.\n",
      "\n",
      "4. **Schweinshaxe with a Twist**: Prepare the classic German pork knuckle (schweinshaxe) but add a smoky shrimp component! Create a shrimp and bacon glaze or sauce to drizzle over the crispy skin of the knuckle just before serving, enhancing the dish with both flavor and texture.\n",
      "\n",
      "5. **Bacon-Shrimp Laugenbrezel Salad**: Carve up soft pretzels into bite-sized pieces, and toss them in a hearty salad with crispy bacon, sautéed shrimp, arugula, and a tangy mustard dressing. This unique salad highlights the flavors of pretzels while adding a seafood component.\n",
      "\n",
      "6. **German Potato Salad with Bacon and Shrimp**: Make a traditional warm potato salad by mixing boiled potatoes with a dressing made from vinegar, oil, and mustard. Fold in crispy bacon pieces and sautéed shrimp for a hearty, flavorful side dish.\n",
      "\n",
      "7. **Shrimp and Bacon Käsekrainer**: Enhance the traditional Käsekrainer (cheese sausage) by adding chopped shrimp and diced bacon into the sausage mixture before grilling. Serve in a bun with sauerkraut and mustard for a savory treat.\n",
      "\n",
      "These dishes not only keep the essence of German cuisine but also playfully introduce shrimp and bacon in a way that’s sure to surprise and delight. Enjoy your culinary adventure!\n"
     ]
    }
   ],
   "source": [
    "response = chat(chat_prompt_with_values.to_messages()).content\n",
    "print (response)"
   ]
  },
  {
   "cell_type": "code",
   "execution_count": 20,
   "metadata": {},
   "outputs": [
    {
     "name": "stdout",
     "output_type": "stream",
     "text": [
      "Incorporating bacon and shrimp into German cuisine can lead to some delicious and innovative dishes. Here are a few creative ideas:\n",
      "\n",
      "1. **Bacon-Wrapped Shrimp Sauerkraut Rolls**: Take traditional sauerkraut rolls and add a twist by wrapping shrimp in bacon before placing them inside the rolls. Use a mixture of sauerkraut, spices, and a bit of mustard to enhance the flavor. Bake until the bacon is crispy and serve with a side of mustard for dipping.\n",
      "\n",
      "2. **Shrimp and Bacon Kartoffelsalat (Potato Salad)**: Create a hearty potato salad by adding crispy bacon and sautéed shrimp to the classic German potato salad. Use a dressing made from vinegar, mustard, and a touch of mayonnaise to bring it all together. Garnish with fresh chives for a pop of color.\n",
      "\n",
      "3. **Bacon and Shrimp Spätzle**: Make homemade spätzle (German egg noodles) and toss them with sautéed shrimp and crispy bacon. Add a creamy sauce made from sour cream, garlic, and herbs to create a rich and comforting dish. Top with grated cheese and bake until bubbly.\n",
      "\n",
      "4. **Shrimp and Bacon Pretzel Bites**: Create bite-sized pretzel dough balls filled with a mixture of shrimp, cream cheese, and crispy bacon. Boil the bites in a baking soda solution before baking them to achieve that classic pretzel texture. Serve with a spicy mustard dip.\n",
      "\n",
      "5. **Bacon and Shrimp Jägerschnitzel**: Take the classic Jägerschnitzel (breaded pork cutlet) and top it with a rich mushroom sauce that includes sautéed shrimp and crispy bacon. Serve with spaetzle or mashed potatoes to soak up the delicious sauce.\n",
      "\n",
      "6. **Shrimp and Bacon Sauerkraut Soup**: Make a hearty soup using a base of sauerkraut, potatoes, and carrots, and add in sautéed shrimp and crispy bacon for a smoky flavor. Season with caraway seeds and serve with crusty bread.\n",
      "\n",
      "7. **Bacon and Shrimp Biergarten Skewers**: Create skewers with marinated shrimp and pieces of bacon, then grill them to perfection. Serve with a side of German-style potato salad and a cold beer for a perfect biergarten experience.\n",
      "\n",
      "8. **Shrimp and Bacon Käsespätzle**: Elevate the traditional Käsespätzle by adding sautéed shrimp and crispy bacon to the cheesy noodle dish. Top with caramelized onions and fresh herbs for added flavor.\n",
      "\n",
      "These dishes blend the rich flavors of bacon and shrimp with traditional German ingredients, creating a unique culinary experience that pays homage to the beloved cuisine. Enjoy experimenting with these ideas!"
     ]
    }
   ],
   "source": [
    "from langchain.callbacks.manager import CallbackManager\n",
    "from langchain.callbacks.streaming_stdout import StreamingStdOutCallbackHandler\n",
    "\n",
    "chat = AzureChatOpenAI(deployment_name = AZURE_OPENAI_DEPLOYMENT_GPT_4O_ID,\n",
    "                      model=\"gpt-4o-mini\",streaming=True, callback_manager=CallbackManager([StreamingStdOutCallbackHandler()]), verbose=True, temperature=0)\n",
    "resp = chat(chat_prompt_with_values.to_messages())"
   ]
  },
  {
   "cell_type": "code",
   "execution_count": null,
   "metadata": {},
   "outputs": [],
   "source": []
  }
 ],
 "metadata": {
  "kernelspec": {
   "display_name": ".venv",
   "language": "python",
   "name": "python3"
  },
  "language_info": {
   "codemirror_mode": {
    "name": "ipython",
    "version": 3
   },
   "file_extension": ".py",
   "mimetype": "text/x-python",
   "name": "python",
   "nbconvert_exporter": "python",
   "pygments_lexer": "ipython3",
   "version": "3.11.6"
  }
 },
 "nbformat": 4,
 "nbformat_minor": 2
}
