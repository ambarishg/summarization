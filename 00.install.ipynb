{
 "cells": [
  {
   "cell_type": "code",
   "execution_count": 2,
   "metadata": {},
   "outputs": [
    {
     "name": "stdout",
     "output_type": "stream",
     "text": [
      "Requirement already satisfied: langchain in c:\\ambarish\\summarization\\.venv\\lib\\site-packages (from -r requirements.txt (line 1)) (0.3.19)\n",
      "Requirement already satisfied: PyPDF2 in c:\\ambarish\\summarization\\.venv\\lib\\site-packages (from -r requirements.txt (line 2)) (3.0.1)\n",
      "Requirement already satisfied: openai in c:\\ambarish\\summarization\\.venv\\lib\\site-packages (from -r requirements.txt (line 3)) (1.65.1)\n",
      "Requirement already satisfied: langchain_openai in c:\\ambarish\\summarization\\.venv\\lib\\site-packages (from -r requirements.txt (line 4)) (0.3.7)\n",
      "Collecting python-dotenv (from -r requirements.txt (line 5))\n",
      "  Using cached python_dotenv-1.0.1-py3-none-any.whl.metadata (23 kB)\n",
      "Requirement already satisfied: langchain-core<1.0.0,>=0.3.35 in c:\\ambarish\\summarization\\.venv\\lib\\site-packages (from langchain->-r requirements.txt (line 1)) (0.3.40)\n",
      "Requirement already satisfied: langchain-text-splitters<1.0.0,>=0.3.6 in c:\\ambarish\\summarization\\.venv\\lib\\site-packages (from langchain->-r requirements.txt (line 1)) (0.3.6)\n",
      "Requirement already satisfied: langsmith<0.4,>=0.1.17 in c:\\ambarish\\summarization\\.venv\\lib\\site-packages (from langchain->-r requirements.txt (line 1)) (0.3.11)\n",
      "Requirement already satisfied: pydantic<3.0.0,>=2.7.4 in c:\\ambarish\\summarization\\.venv\\lib\\site-packages (from langchain->-r requirements.txt (line 1)) (2.10.6)\n",
      "Requirement already satisfied: SQLAlchemy<3,>=1.4 in c:\\ambarish\\summarization\\.venv\\lib\\site-packages (from langchain->-r requirements.txt (line 1)) (2.0.38)\n",
      "Requirement already satisfied: requests<3,>=2 in c:\\ambarish\\summarization\\.venv\\lib\\site-packages (from langchain->-r requirements.txt (line 1)) (2.32.3)\n",
      "Requirement already satisfied: PyYAML>=5.3 in c:\\ambarish\\summarization\\.venv\\lib\\site-packages (from langchain->-r requirements.txt (line 1)) (6.0.2)\n",
      "Requirement already satisfied: aiohttp<4.0.0,>=3.8.3 in c:\\ambarish\\summarization\\.venv\\lib\\site-packages (from langchain->-r requirements.txt (line 1)) (3.11.13)\n",
      "Requirement already satisfied: tenacity!=8.4.0,<10,>=8.1.0 in c:\\ambarish\\summarization\\.venv\\lib\\site-packages (from langchain->-r requirements.txt (line 1)) (9.0.0)\n",
      "Requirement already satisfied: numpy<2,>=1.26.4 in c:\\ambarish\\summarization\\.venv\\lib\\site-packages (from langchain->-r requirements.txt (line 1)) (1.26.4)\n",
      "Requirement already satisfied: anyio<5,>=3.5.0 in c:\\ambarish\\summarization\\.venv\\lib\\site-packages (from openai->-r requirements.txt (line 3)) (4.8.0)\n",
      "Requirement already satisfied: distro<2,>=1.7.0 in c:\\ambarish\\summarization\\.venv\\lib\\site-packages (from openai->-r requirements.txt (line 3)) (1.9.0)\n",
      "Requirement already satisfied: httpx<1,>=0.23.0 in c:\\ambarish\\summarization\\.venv\\lib\\site-packages (from openai->-r requirements.txt (line 3)) (0.28.1)\n",
      "Requirement already satisfied: jiter<1,>=0.4.0 in c:\\ambarish\\summarization\\.venv\\lib\\site-packages (from openai->-r requirements.txt (line 3)) (0.8.2)\n",
      "Requirement already satisfied: sniffio in c:\\ambarish\\summarization\\.venv\\lib\\site-packages (from openai->-r requirements.txt (line 3)) (1.3.1)\n",
      "Requirement already satisfied: tqdm>4 in c:\\ambarish\\summarization\\.venv\\lib\\site-packages (from openai->-r requirements.txt (line 3)) (4.67.1)\n",
      "Requirement already satisfied: typing-extensions<5,>=4.11 in c:\\ambarish\\summarization\\.venv\\lib\\site-packages (from openai->-r requirements.txt (line 3)) (4.12.2)\n",
      "Requirement already satisfied: tiktoken<1,>=0.7 in c:\\ambarish\\summarization\\.venv\\lib\\site-packages (from langchain_openai->-r requirements.txt (line 4)) (0.9.0)\n",
      "Requirement already satisfied: aiohappyeyeballs>=2.3.0 in c:\\ambarish\\summarization\\.venv\\lib\\site-packages (from aiohttp<4.0.0,>=3.8.3->langchain->-r requirements.txt (line 1)) (2.4.6)\n",
      "Requirement already satisfied: aiosignal>=1.1.2 in c:\\ambarish\\summarization\\.venv\\lib\\site-packages (from aiohttp<4.0.0,>=3.8.3->langchain->-r requirements.txt (line 1)) (1.3.2)\n",
      "Requirement already satisfied: attrs>=17.3.0 in c:\\ambarish\\summarization\\.venv\\lib\\site-packages (from aiohttp<4.0.0,>=3.8.3->langchain->-r requirements.txt (line 1)) (25.1.0)\n",
      "Requirement already satisfied: frozenlist>=1.1.1 in c:\\ambarish\\summarization\\.venv\\lib\\site-packages (from aiohttp<4.0.0,>=3.8.3->langchain->-r requirements.txt (line 1)) (1.5.0)\n",
      "Requirement already satisfied: multidict<7.0,>=4.5 in c:\\ambarish\\summarization\\.venv\\lib\\site-packages (from aiohttp<4.0.0,>=3.8.3->langchain->-r requirements.txt (line 1)) (6.1.0)\n",
      "Requirement already satisfied: propcache>=0.2.0 in c:\\ambarish\\summarization\\.venv\\lib\\site-packages (from aiohttp<4.0.0,>=3.8.3->langchain->-r requirements.txt (line 1)) (0.3.0)\n",
      "Requirement already satisfied: yarl<2.0,>=1.17.0 in c:\\ambarish\\summarization\\.venv\\lib\\site-packages (from aiohttp<4.0.0,>=3.8.3->langchain->-r requirements.txt (line 1)) (1.18.3)\n",
      "Requirement already satisfied: idna>=2.8 in c:\\ambarish\\summarization\\.venv\\lib\\site-packages (from anyio<5,>=3.5.0->openai->-r requirements.txt (line 3)) (3.10)\n",
      "Requirement already satisfied: certifi in c:\\ambarish\\summarization\\.venv\\lib\\site-packages (from httpx<1,>=0.23.0->openai->-r requirements.txt (line 3)) (2025.1.31)\n",
      "Requirement already satisfied: httpcore==1.* in c:\\ambarish\\summarization\\.venv\\lib\\site-packages (from httpx<1,>=0.23.0->openai->-r requirements.txt (line 3)) (1.0.7)\n",
      "Requirement already satisfied: h11<0.15,>=0.13 in c:\\ambarish\\summarization\\.venv\\lib\\site-packages (from httpcore==1.*->httpx<1,>=0.23.0->openai->-r requirements.txt (line 3)) (0.14.0)\n",
      "Requirement already satisfied: jsonpatch<2.0,>=1.33 in c:\\ambarish\\summarization\\.venv\\lib\\site-packages (from langchain-core<1.0.0,>=0.3.35->langchain->-r requirements.txt (line 1)) (1.33)\n",
      "Requirement already satisfied: packaging<25,>=23.2 in c:\\ambarish\\summarization\\.venv\\lib\\site-packages (from langchain-core<1.0.0,>=0.3.35->langchain->-r requirements.txt (line 1)) (24.2)\n",
      "Requirement already satisfied: orjson<4.0.0,>=3.9.14 in c:\\ambarish\\summarization\\.venv\\lib\\site-packages (from langsmith<0.4,>=0.1.17->langchain->-r requirements.txt (line 1)) (3.10.15)\n",
      "Requirement already satisfied: requests-toolbelt<2.0.0,>=1.0.0 in c:\\ambarish\\summarization\\.venv\\lib\\site-packages (from langsmith<0.4,>=0.1.17->langchain->-r requirements.txt (line 1)) (1.0.0)\n",
      "Requirement already satisfied: zstandard<0.24.0,>=0.23.0 in c:\\ambarish\\summarization\\.venv\\lib\\site-packages (from langsmith<0.4,>=0.1.17->langchain->-r requirements.txt (line 1)) (0.23.0)\n",
      "Requirement already satisfied: annotated-types>=0.6.0 in c:\\ambarish\\summarization\\.venv\\lib\\site-packages (from pydantic<3.0.0,>=2.7.4->langchain->-r requirements.txt (line 1)) (0.7.0)\n",
      "Requirement already satisfied: pydantic-core==2.27.2 in c:\\ambarish\\summarization\\.venv\\lib\\site-packages (from pydantic<3.0.0,>=2.7.4->langchain->-r requirements.txt (line 1)) (2.27.2)\n",
      "Requirement already satisfied: charset-normalizer<4,>=2 in c:\\ambarish\\summarization\\.venv\\lib\\site-packages (from requests<3,>=2->langchain->-r requirements.txt (line 1)) (3.4.1)\n",
      "Requirement already satisfied: urllib3<3,>=1.21.1 in c:\\ambarish\\summarization\\.venv\\lib\\site-packages (from requests<3,>=2->langchain->-r requirements.txt (line 1)) (2.3.0)\n",
      "Requirement already satisfied: greenlet!=0.4.17 in c:\\ambarish\\summarization\\.venv\\lib\\site-packages (from SQLAlchemy<3,>=1.4->langchain->-r requirements.txt (line 1)) (3.1.1)\n",
      "Requirement already satisfied: regex>=2022.1.18 in c:\\ambarish\\summarization\\.venv\\lib\\site-packages (from tiktoken<1,>=0.7->langchain_openai->-r requirements.txt (line 4)) (2024.11.6)\n",
      "Requirement already satisfied: colorama in c:\\ambarish\\summarization\\.venv\\lib\\site-packages (from tqdm>4->openai->-r requirements.txt (line 3)) (0.4.6)\n",
      "Requirement already satisfied: jsonpointer>=1.9 in c:\\ambarish\\summarization\\.venv\\lib\\site-packages (from jsonpatch<2.0,>=1.33->langchain-core<1.0.0,>=0.3.35->langchain->-r requirements.txt (line 1)) (3.0.0)\n",
      "Using cached python_dotenv-1.0.1-py3-none-any.whl (19 kB)\n",
      "Installing collected packages: python-dotenv\n",
      "Successfully installed python-dotenv-1.0.1\n"
     ]
    }
   ],
   "source": [
    "! pip install -r requirements.txt"
   ]
  },
  {
   "cell_type": "code",
   "execution_count": null,
   "metadata": {},
   "outputs": [],
   "source": []
  }
 ],
 "metadata": {
  "kernelspec": {
   "display_name": ".venv",
   "language": "python",
   "name": "python3"
  },
  "language_info": {
   "codemirror_mode": {
    "name": "ipython",
    "version": 3
   },
   "file_extension": ".py",
   "mimetype": "text/x-python",
   "name": "python",
   "nbconvert_exporter": "python",
   "pygments_lexer": "ipython3",
   "version": "3.11.6"
  }
 },
 "nbformat": 4,
 "nbformat_minor": 2
}
