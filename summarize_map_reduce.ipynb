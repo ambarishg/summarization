{
 "cells": [
  {
   "cell_type": "code",
   "execution_count": 1,
   "metadata": {},
   "outputs": [],
   "source": [
    "from pdf_helper import get_pdf_data\n",
    "from config import *\n",
    "import os"
   ]
  },
  {
   "cell_type": "code",
   "execution_count": 2,
   "metadata": {},
   "outputs": [],
   "source": [
    "full_text = get_pdf_data(\"VARO.pdf\")"
   ]
  },
  {
   "cell_type": "code",
   "execution_count": 3,
   "metadata": {},
   "outputs": [],
   "source": [
    "from langchain_openai import AzureChatOpenAI\n",
    "from langchain.chains.summarize import load_summarize_chain\n",
    "from langchain.text_splitter import RecursiveCharacterTextSplitter"
   ]
  },
  {
   "cell_type": "code",
   "execution_count": 4,
   "metadata": {},
   "outputs": [
    {
     "data": {
      "text/plain": [
       "244282"
      ]
     },
     "execution_count": 4,
     "metadata": {},
     "output_type": "execute_result"
    }
   ],
   "source": [
    "len(full_text)"
   ]
  },
  {
   "cell_type": "code",
   "execution_count": 5,
   "metadata": {},
   "outputs": [],
   "source": [
    "import os\n",
    "\n",
    "os.environ[\"OPENAI_API_VERSION\"] = \"2023-05-15\"\n",
    "os.environ[\"AZURE_OPENAI_ENDPOINT\"] = AZURE_OPENAI_ENDPOINT\n",
    "os.environ[\"AZURE_OPENAI_API_KEY\"] = AZURE_OPENAI_KEY"
   ]
  },
  {
   "cell_type": "code",
   "execution_count": 6,
   "metadata": {},
   "outputs": [
    {
     "data": {
      "text/plain": [
       "'https://westusgenai.openai.azure.com/'"
      ]
     },
     "execution_count": 6,
     "metadata": {},
     "output_type": "execute_result"
    }
   ],
   "source": [
    "AZURE_OPENAI_ENDPOINT"
   ]
  },
  {
   "cell_type": "code",
   "execution_count": 7,
   "metadata": {},
   "outputs": [],
   "source": [
    "llm = AzureChatOpenAI(deployment_name = AZURE_OPENAI_DEPLOYMENT_GPT_4O_ID,\n",
    "                      model=\"gpt-4o-mini\")"
   ]
  },
  {
   "cell_type": "code",
   "execution_count": 8,
   "metadata": {},
   "outputs": [
    {
     "data": {
      "text/plain": [
       "AzureChatOpenAI(client=<openai.resources.chat.completions.completions.Completions object at 0x0000021E21FB8B50>, async_client=<openai.resources.chat.completions.completions.AsyncCompletions object at 0x0000021E22463610>, root_client=<openai.lib.azure.AzureOpenAI object at 0x0000021E21F8E590>, root_async_client=<openai.lib.azure.AsyncAzureOpenAI object at 0x0000021E2244FFD0>, model_name='gpt-4o-mini', model_kwargs={}, openai_api_key=SecretStr('**********'), disabled_params={'parallel_tool_calls': None}, azure_endpoint='https://westusgenai.openai.azure.com/', deployment_name='gpt-4o-mini', openai_api_version='2023-05-15', openai_api_type='azure')"
      ]
     },
     "execution_count": 8,
     "metadata": {},
     "output_type": "execute_result"
    }
   ],
   "source": [
    "llm"
   ]
  },
  {
   "cell_type": "code",
   "execution_count": 9,
   "metadata": {},
   "outputs": [],
   "source": [
    "text_splitter = RecursiveCharacterTextSplitter(separators=[\"\\n\\n\", \"\\n\"], chunk_size=10000, chunk_overlap=500)\n",
    "\n",
    "docs = text_splitter.create_documents([full_text])"
   ]
  },
  {
   "cell_type": "code",
   "execution_count": 10,
   "metadata": {},
   "outputs": [
    {
     "data": {
      "text/plain": [
       "26"
      ]
     },
     "execution_count": 10,
     "metadata": {},
     "output_type": "execute_result"
    }
   ],
   "source": [
    "len(docs)"
   ]
  },
  {
   "cell_type": "code",
   "execution_count": null,
   "metadata": {},
   "outputs": [],
   "source": [
    "summary = \"\"\n",
    "pages_per_call = 12\n",
    "delay = 60\n",
    "import time"
   ]
  },
  {
   "cell_type": "code",
   "execution_count": 12,
   "metadata": {},
   "outputs": [
    {
     "data": {
      "text/plain": [
       "''"
      ]
     },
     "execution_count": 12,
     "metadata": {},
     "output_type": "execute_result"
    }
   ],
   "source": [
    "summary"
   ]
  },
  {
   "cell_type": "code",
   "execution_count": 13,
   "metadata": {},
   "outputs": [
    {
     "name": "stderr",
     "output_type": "stream",
     "text": [
      "C:\\Users\\Ambarish Ganguly\\AppData\\Local\\Temp\\ipykernel_12640\\2021827262.py:5: LangChainDeprecationWarning: The method `Chain.run` was deprecated in langchain 0.1.0 and will be removed in 1.0. Use :meth:`~invoke` instead.\n",
      "  summary += chain.run(batch_docs)\n"
     ]
    },
    {
     "name": "stdout",
     "output_type": "stream",
     "text": [
      "Summarized pages 1-2\n",
      "Summarized pages 3-4\n",
      "Summarized pages 5-6\n",
      "Summarized pages 7-8\n",
      "Summarized pages 9-10\n",
      "Summarized pages 11-12\n",
      "Summarized pages 13-14\n",
      "Summarized pages 15-16\n",
      "Summarized pages 17-18\n",
      "Summarized pages 19-20\n",
      "Summarized pages 21-22\n",
      "Summarized pages 23-24\n",
      "Summarized pages 25-26\n"
     ]
    }
   ],
   "source": [
    "for i in range(0, len(docs), pages_per_call):\n",
    "        batch_docs = docs[i:i+pages_per_call]\n",
    "        chain = load_summarize_chain(llm, chain_type=\"map_reduce\")\n",
    "        try:\n",
    "            summary += chain.run(batch_docs)\n",
    "        except Exception as e:\n",
    "            print(f\"Error during summarization of pages {i+1}-{min(i+pages_per_call, len(docs))}: {e}\")\n",
    "            continue\n",
    "\n",
    "        print(f\"Summarized pages {i+1}-{min(i+pages_per_call, len(docs))}\")\n",
    "        # time.sleep(delay) # Wait to avoid rate limits   "
   ]
  },
  {
   "cell_type": "code",
   "execution_count": 14,
   "metadata": {},
   "outputs": [],
   "source": [
    "from pprint import pprint"
   ]
  },
  {
   "cell_type": "code",
   "execution_count": 16,
   "metadata": {},
   "outputs": [
    {
     "data": {
      "text/plain": [
       "11855"
      ]
     },
     "execution_count": 16,
     "metadata": {},
     "output_type": "execute_result"
    }
   ],
   "source": [
    "len(summary)"
   ]
  },
  {
   "cell_type": "code",
   "execution_count": 15,
   "metadata": {},
   "outputs": [
    {
     "name": "stdout",
     "output_type": "stream",
     "text": [
      "(\"The VARO Energy ESG Report 2022 outlines the company's commitment to \"\n",
      " 'sustainable energy amid global challenges, such as the energy security '\n",
      " 'crisis. Through its ONE VARO Transformation strategy, VARO aims for net-zero '\n",
      " 'emissions by 2040, targeting a 40% reduction in scope 1 and 2 emissions and '\n",
      " 'a 15% reduction in scope 3 carbon intensity by 2030. The company is '\n",
      " 'investing $3.5 billion from 2022 to 2026 in sustainable energies and '\n",
      " 'prioritizing safety, diversity, and community engagement. A strengthened '\n",
      " 'governance framework includes an ESG committee for enhanced accountability. '\n",
      " 'VARO aims to balance energy security with the transition to sustainable '\n",
      " 'sources like biofuels and hydrogen, while also fostering a diverse workforce '\n",
      " 'and expanding its sustainability initiatives, including biogas facilities '\n",
      " 'and Sustainable Aviation Fuel production.In July 2022, VARO Energy launched '\n",
      " 'its ONE VARO Transformation strategy to accelerate the energy transition and '\n",
      " 'achieve net-zero emissions by 2040. Key initiatives include promoting gender '\n",
      " 'diversity in hiring, halting Russian crude oil sourcing, and establishing '\n",
      " 'agreements for renewable crude tall oil. The company is focused on expanding '\n",
      " 'biofuels, hydrogen, and carbon removal, alongside enhancing its European '\n",
      " \"manufacturing and logistics. VARO's decarbonization roadmap targets a 40% \"\n",
      " 'reduction in greenhouse gas emissions by 2030 and a 15% reduction in product '\n",
      " 'carbon intensity. The company prioritizes health and safety, promotes an '\n",
      " 'inclusive workplace, and follows an ESG strategy that advocates for ethical '\n",
      " 'practices and climate change action.VARO Energy aims for net-zero emissions '\n",
      " 'by offsetting CO2 and reducing Scope 3 greenhouse gas emissions intensity by '\n",
      " '15% by 2030. The company is focusing on expanding its low-carbon portfolio, '\n",
      " 'including biofuels, hydrogen, and e-mobility, while implementing '\n",
      " 'decarbonization initiatives at its manufacturing sites. Their ESG strategy '\n",
      " 'involves stakeholder engagement and a \"double materiality\" approach, '\n",
      " 'assessing both financial impacts and societal implications. VARO plans to '\n",
      " 'invest $3.5 billion in sustainable energy solutions and achieve net-zero '\n",
      " 'emissions from products by 2040. Through the ONE VARO Transformation '\n",
      " 'strategy, launched in July 2022, the company emphasizes customer-driven '\n",
      " 'investments in biofuels, biomethane, hydrogen, e-mobility, and carbon '\n",
      " 'removals, aiming to enhance its biomethane production and reduce reliance on '\n",
      " 'crop-based fuels.In December 2022, VARO Energy acquired an 80% stake in Bio '\n",
      " 'Energy Coevorden BV, a major European biogas manufacturer, aiming to expand '\n",
      " 'its capacity from 300 GWh to 650 GWh by 2026, contributing 20-25% to its '\n",
      " 'renewable energies EBITDA. The company supplied 65 km³ of HVO biodiesel and '\n",
      " 'is exploring partnerships for e-fuels and Sustainable Aviation Fuel (SAF). '\n",
      " 'By 2026, VARO plans to produce 250,000 tonnes of advanced biofuels and 1 TWh '\n",
      " 'of biomethane/bio-LNG while targeting a 40% reduction in scope 1 and 2 '\n",
      " 'emissions by 2030 and achieving net-zero emissions by 2040. Despite a 22% '\n",
      " 'rise in scope 1 and 2 emissions in 2022 due to increased production, VARO '\n",
      " 'reported improved emissions efficiency. Key initiatives included 100% '\n",
      " 'renewable electricity sourcing and energy efficiency improvements at its '\n",
      " 'facilities. The company is also addressing scope 3 emissions, which '\n",
      " 'constituted 82% of total emissions, while demonstrating commitment to '\n",
      " 'sustainable energy by avoiding 2.3 million tonnes of emissions through '\n",
      " 'low-carbon fuel sales. Future efforts will focus on decarbonizing products '\n",
      " 'and sourcing sustainable feedstocks.VARO Energy aims to reduce upstream '\n",
      " 'feedstock sourcing emissions, which represented 16% of its total value chain '\n",
      " 'emissions in 2022. The company is addressing challenges in emission '\n",
      " 'reductions for conventional fuels and expanding its carbon inventory, with a '\n",
      " 'target to decrease scope 3 emissions. A key move in 2023 was acquiring a '\n",
      " 'majority stake in Bio Energy Coevorden BV, positioning VARO as a leading '\n",
      " 'biogas producer in Europe and supporting its goal of achieving net-zero '\n",
      " 'emissions by 2040. VARO emphasizes strict compliance with environmental '\n",
      " 'regulations, investments in low-emission technologies, and spill prevention, '\n",
      " 'particularly at its Cressier hub, where it engages with the community and '\n",
      " 'conducts regular safety inspections. Furthermore, biodiversity protection is '\n",
      " 'central to its operations, with no regulatory breaches reported in 2022, and '\n",
      " 'the company follows a biodiversity mitigation hierarchy for future '\n",
      " 'investments. VARO also effectively manages waste and mitigates pollution '\n",
      " 'risks through proactive measures and adherence to legal standards.VARO '\n",
      " 'Energy is dedicated to pollution prevention and effective waste management '\n",
      " 'in its petroleum refinery operations, achieving 90% waste reuse in 2022. '\n",
      " 'Their Cressier hub organized waste into 39 categories, resulting in 39% '\n",
      " 'recycling and 33% energy recovery. The company prioritizes safety, aiming '\n",
      " 'for a Total Recordable Incident Rate (TRIR) of ≤ 0.20 by 2035 and reducing '\n",
      " 'its Total Recordable Injury Rate to below 0.5 by 2025. VARO engages '\n",
      " 'employees in health and safety through training and wellness initiatives, '\n",
      " 'while also collaborating with Lufthansa Group to produce Sustainable '\n",
      " 'Aviation Fuel (SAF). Efforts to address PFAS concerns and enhance safety '\n",
      " 'management will continue with new digital tools and initiatives in 2023.In '\n",
      " '2023, VARO is enhancing transport safety through a risk-based approach and '\n",
      " 'digital tools, while also focusing on equity, inclusion, and diversity '\n",
      " '(EI&D) with goals of 50% female representation in office roles and senior '\n",
      " 'management by 2030. Currently, women occupy 40% of office roles and 16% of '\n",
      " 'senior management positions, with a gender pay gap below 10%. The company '\n",
      " 'promotes employee satisfaction through flexible policies, achieving a 94% '\n",
      " 'retention rate in 2022, and aims for a 75% engagement level by 2025. VARO '\n",
      " 'invests in employee development and modernizes workspaces while actively '\n",
      " 'engaging with local communities and addressing environmental concerns. Their '\n",
      " 'mission emphasizes collective responsibility, diversity, and positive social '\n",
      " 'impact in the industry.VARO Energy is actively enhancing community '\n",
      " 'engagement and environmental sustainability through initiatives like music '\n",
      " \"festivals, playground renovations, and support for children's events to \"\n",
      " 'spark interest in the energy sector. The company has improved communication '\n",
      " 'with an updated website and stronger social media presence, addressed local '\n",
      " 'noise complaints with control measures, and aided Ukrainian refugee relief '\n",
      " 'through job creation and donations. VARO is transitioning to a low-carbon '\n",
      " 'energy model by developing district heating systems and a solar farm, '\n",
      " 'underpinned by robust governance and ESG policies. Operated by a two-tier '\n",
      " 'governance structure, VARO’s Supervisory Board oversees ESG strategy while '\n",
      " 'the Executive Board manages operations and risk, supported by dedicated '\n",
      " 'committees. The company’s Enterprise Risk Management system aligns financial '\n",
      " 'and ESG risks with its Transformation strategy to remain competitive amidst '\n",
      " 'challenges such as climate change and market fluctuations.VARO Energy is '\n",
      " 'integrating physical climate risks into its Enterprise Risk Management (ERM) '\n",
      " 'and conducting Climate Scenario Analysis per TCFD recommendations over the '\n",
      " 'next two years. The company faces external market risks, including oil and '\n",
      " 'renewable fuel price fluctuations, geopolitical factors, and currency '\n",
      " 'exchange rates. An internal team monitors these risks and compliance with '\n",
      " 'sanctions, adapting operations as necessary.\\n'\n",
      " '\\n'\n",
      " 'Emphasizing ethical standards, VARO promotes a culture of reporting '\n",
      " 'misconduct without retaliation and prioritizes information and cybersecurity '\n",
      " 'with established protocols and training. Crisis management plans are in '\n",
      " 'place for emergencies, and the company conducts annual training to enhance '\n",
      " 'preparedness.\\n'\n",
      " '\\n'\n",
      " 'With a commitment to sustainability, VARO requires due diligence for '\n",
      " 'transactions over €15,000 and follows a Know Your Customer (KYC) policy for '\n",
      " 'about 18,000 counterparties. A Whistleblower Policy enables anonymous '\n",
      " 'reporting of violations, and in 2022, 84.2% of employees completed Code of '\n",
      " 'Conduct training. VARO aligns operations with UN Global Compact principles '\n",
      " 'and collaborates with organizations like the World Economic Forum to '\n",
      " 'advocate for sustainable practices, as detailed in its ESG report.In 2022, '\n",
      " 'VARO improved its control over greenhouse gas emissions at the Bayernoil '\n",
      " 'manufacturing hub, resulting in a restatement of 2021 data. Scope 1 and 2 '\n",
      " 'emissions rose from 52.38% to 56.64%, totaling 1,217,116 metric tonnes CO2 '\n",
      " 'equivalent for Scope 1 and 189,752 for Scope 2. The carbon intensity of '\n",
      " 'manufacturing decreased from 23 kg CO2/boe in 2021 to 21 in 2022. Safety '\n",
      " 'metrics showed a total of 248.5 lost workdays and 22 total recordable '\n",
      " 'injuries, while process safety events increased to five. The workforce grew '\n",
      " 'to 1,329 employees, with 176 new hires and a 91% retention rate for those '\n",
      " 'returning from parental leave. Diversity metrics indicated limited female '\n",
      " 'representation on the Supervisory Board, but some gender diversity on the '\n",
      " \"Executive Board. The report underscores VARO's commitment to reducing \"\n",
      " 'environmental impacts and enhancing workplace safety and diversity.The VARO '\n",
      " 'Energy report details gender and age demographics of management roles for '\n",
      " '2020 and 2021, noting that in 2021, 38% of Senior Management were over 50, '\n",
      " 'while only 14% of Project Management were under 30. Male representation '\n",
      " 'dominated leadership positions, particularly in Senior and Middle Management '\n",
      " '(86%), with female representation at just 16%. The report aligns with GRI '\n",
      " 'Standards, emphasizing governance, diversity initiatives, and stakeholder '\n",
      " 'engagement, while acknowledging some data is confidential or incomplete. It '\n",
      " 'outlines various sustainability topics, including anti-corruption, '\n",
      " 'emissions, waste management, and biodiversity. Key highlights show no '\n",
      " 'reported incidents of corruption in 2022, ongoing discussions about energy '\n",
      " 'consumption and greenhouse gas emissions, and gaps in reporting biodiversity '\n",
      " 'and water management due to incomplete data. Overall, while VARO Energy '\n",
      " 'expresses a commitment to sustainability, the report reflects challenges in '\n",
      " 'comprehensive data reporting in the energy sector.The VARO Energy ESG Report '\n",
      " 'highlights gaps in information concerning waste management, oil spill '\n",
      " 'prevention, employment practices, and health and safety metrics. Key '\n",
      " 'omissions include detailed data on waste disposal, employee statistics, and '\n",
      " 'safety incidents. The report emphasizes adherence to Global Reporting '\n",
      " 'Initiative (GRI) standards, focusing on climate risks and industry '\n",
      " \"association involvement. VARO's collaboration with various associations \"\n",
      " 'across Switzerland, Germany, the Netherlands, Belgium, and France addresses '\n",
      " 'energy supply security, sustainable practices, and environmental concerns, '\n",
      " 'including organizations like Avenergy Switzerland and Fuels Europe. '\n",
      " 'Non-financial issues like forced labor and land rights are deemed irrelevant '\n",
      " 'to VARO’s operations.The text discusses several European energy-related '\n",
      " 'organizations, including ATEE France, USI France, FF3C France, FFPI France, '\n",
      " 'and the World Biogas Association, highlighting UPEI, which represents around '\n",
      " '2,000 independent energy distributors. It also mentions the World Economic '\n",
      " \"Forum's involvement in global challenges. The ESG report by VARO Energy \"\n",
      " 'includes metrics on environmental, social, and governance factors, supported '\n",
      " \"by an independent auditor's assurance stating compliance with the Dutch code \"\n",
      " 'of ethics without conflicts of interest. The assurance engagement confirms '\n",
      " 'the reliability of selected information for 2022, while prior data remains '\n",
      " 'unaudited. The management is responsible for the accuracy of the report, and '\n",
      " 'a limited engagement was conducted to evaluate its credibility, resulting in '\n",
      " 'a qualified conclusion.')\n"
     ]
    }
   ],
   "source": [
    "pprint(summary)"
   ]
  },
  {
   "cell_type": "code",
   "execution_count": null,
   "metadata": {},
   "outputs": [],
   "source": []
  }
 ],
 "metadata": {
  "kernelspec": {
   "display_name": ".venv",
   "language": "python",
   "name": "python3"
  },
  "language_info": {
   "codemirror_mode": {
    "name": "ipython",
    "version": 3
   },
   "file_extension": ".py",
   "mimetype": "text/x-python",
   "name": "python",
   "nbconvert_exporter": "python",
   "pygments_lexer": "ipython3",
   "version": "3.11.6"
  }
 },
 "nbformat": 4,
 "nbformat_minor": 2
}
