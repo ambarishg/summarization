{
 "cells": [
  {
   "cell_type": "code",
   "execution_count": 1,
   "metadata": {},
   "outputs": [],
   "source": [
    "from pdf_helper import get_pdf_data\n",
    "from config import *\n",
    "import os"
   ]
  },
  {
   "cell_type": "code",
   "execution_count": 2,
   "metadata": {},
   "outputs": [],
   "source": [
    "full_text = get_pdf_data(\"VARO.pdf\")"
   ]
  },
  {
   "cell_type": "code",
   "execution_count": 3,
   "metadata": {},
   "outputs": [],
   "source": [
    "from langchain_openai import AzureChatOpenAI\n",
    "from langchain.chains.summarize import load_summarize_chain\n",
    "from langchain.text_splitter import RecursiveCharacterTextSplitter"
   ]
  },
  {
   "cell_type": "code",
   "execution_count": 4,
   "metadata": {},
   "outputs": [
    {
     "data": {
      "text/plain": [
       "244282"
      ]
     },
     "execution_count": 4,
     "metadata": {},
     "output_type": "execute_result"
    }
   ],
   "source": [
    "len(full_text)"
   ]
  },
  {
   "cell_type": "code",
   "execution_count": 5,
   "metadata": {},
   "outputs": [],
   "source": [
    "import os\n",
    "\n",
    "os.environ[\"OPENAI_API_VERSION\"] = \"2023-05-15\"\n",
    "os.environ[\"AZURE_OPENAI_ENDPOINT\"] = AZURE_OPENAI_ENDPOINT\n",
    "os.environ[\"AZURE_OPENAI_API_KEY\"] = AZURE_OPENAI_KEY"
   ]
  },
  {
   "cell_type": "code",
   "execution_count": 6,
   "metadata": {},
   "outputs": [
    {
     "data": {
      "text/plain": [
       "'gpt-4o-mini'"
      ]
     },
     "execution_count": 6,
     "metadata": {},
     "output_type": "execute_result"
    }
   ],
   "source": [
    "AZURE_OPENAI_DEPLOYMENT_GPT_4O_ID"
   ]
  },
  {
   "cell_type": "code",
   "execution_count": 7,
   "metadata": {},
   "outputs": [],
   "source": [
    "llm = AzureChatOpenAI(deployment_name = AZURE_OPENAI_DEPLOYMENT_GPT_4O_ID,\n",
    "                      model=\"gpt-4o-mini\")"
   ]
  },
  {
   "cell_type": "code",
   "execution_count": 8,
   "metadata": {},
   "outputs": [
    {
     "data": {
      "text/plain": [
       "AzureChatOpenAI(client=<openai.resources.chat.completions.completions.Completions object at 0x000002434B54BA90>, async_client=<openai.resources.chat.completions.completions.AsyncCompletions object at 0x000002434B609190>, root_client=<openai.lib.azure.AzureOpenAI object at 0x000002434AECD210>, root_async_client=<openai.lib.azure.AsyncAzureOpenAI object at 0x000002434B17D590>, model_name='gpt-4o-mini', model_kwargs={}, openai_api_key=SecretStr('**********'), disabled_params={'parallel_tool_calls': None}, azure_endpoint='https://westusgenai.openai.azure.com/', deployment_name='gpt-4o-mini', openai_api_version='2023-05-15', openai_api_type='azure')"
      ]
     },
     "execution_count": 8,
     "metadata": {},
     "output_type": "execute_result"
    }
   ],
   "source": [
    "llm"
   ]
  },
  {
   "cell_type": "code",
   "execution_count": 9,
   "metadata": {},
   "outputs": [],
   "source": [
    "text_splitter = RecursiveCharacterTextSplitter(separators=[\"\\n\\n\", \"\\n\"], chunk_size=10000, chunk_overlap=500)\n",
    "\n",
    "docs = text_splitter.create_documents([full_text])"
   ]
  },
  {
   "cell_type": "code",
   "execution_count": 10,
   "metadata": {},
   "outputs": [
    {
     "data": {
      "text/plain": [
       "26"
      ]
     },
     "execution_count": 10,
     "metadata": {},
     "output_type": "execute_result"
    }
   ],
   "source": [
    "len(docs)"
   ]
  },
  {
   "cell_type": "code",
   "execution_count": 11,
   "metadata": {},
   "outputs": [],
   "source": [
    "summary = \"\"\n",
    "pages_per_call = 2\n",
    "delay = 60\n",
    "import time"
   ]
  },
  {
   "cell_type": "code",
   "execution_count": 12,
   "metadata": {},
   "outputs": [
    {
     "data": {
      "text/plain": [
       "''"
      ]
     },
     "execution_count": 12,
     "metadata": {},
     "output_type": "execute_result"
    }
   ],
   "source": [
    "summary"
   ]
  },
  {
   "cell_type": "code",
   "execution_count": 13,
   "metadata": {},
   "outputs": [
    {
     "name": "stderr",
     "output_type": "stream",
     "text": [
      "C:\\Users\\Ambarish Ganguly\\AppData\\Local\\Temp\\ipykernel_23356\\2021827262.py:5: LangChainDeprecationWarning: The method `Chain.run` was deprecated in langchain 0.1.0 and will be removed in 1.0. Use :meth:`~invoke` instead.\n",
      "  summary += chain.run(batch_docs)\n"
     ]
    },
    {
     "name": "stdout",
     "output_type": "stream",
     "text": [
      "Summarized pages 1-2\n",
      "Summarized pages 3-4\n",
      "Summarized pages 5-6\n",
      "Summarized pages 7-8\n",
      "Summarized pages 9-10\n",
      "Summarized pages 11-12\n",
      "Summarized pages 13-14\n",
      "Summarized pages 15-16\n",
      "Summarized pages 17-18\n",
      "Summarized pages 19-20\n",
      "Summarized pages 21-22\n",
      "Summarized pages 23-24\n",
      "Summarized pages 25-26\n"
     ]
    }
   ],
   "source": [
    "for i in range(0, len(docs), pages_per_call):\n",
    "        batch_docs = docs[i:i+pages_per_call]\n",
    "        chain = load_summarize_chain(llm, chain_type=\"map_reduce\")\n",
    "        try:\n",
    "            summary += chain.run(batch_docs)\n",
    "        except Exception as e:\n",
    "            print(f\"Error during summarization of pages {i+1}-{min(i+pages_per_call, len(docs))}: {e}\")\n",
    "            continue\n",
    "\n",
    "        print(f\"Summarized pages {i+1}-{min(i+pages_per_call, len(docs))}\")\n",
    "        # time.sleep(delay) # Wait to avoid rate limits   "
   ]
  },
  {
   "cell_type": "code",
   "execution_count": 14,
   "metadata": {},
   "outputs": [],
   "source": [
    "from pprint import pprint"
   ]
  },
  {
   "cell_type": "code",
   "execution_count": 15,
   "metadata": {},
   "outputs": [
    {
     "name": "stdout",
     "output_type": "stream",
     "text": [
      "(\"The VARO Energy ESG Report 2022 showcases the company's dedication to \"\n",
      " 'sustainable energy solutions amid global energy security challenges. It '\n",
      " 'outlines the ONE VARO Transformation strategy, aiming for net-zero emissions '\n",
      " 'by 2040, a 40% reduction in scope 1 and 2 emissions, and a 15% decrease in '\n",
      " 'scope 3 carbon intensity by 2030. The report highlights the importance of '\n",
      " 'safety, diversity, and governance, along with integrated ESG practices. VARO '\n",
      " 'plans to invest $3.5 billion in sustainable energy by 2026, enhance equity '\n",
      " 'and inclusion in leadership, and expand initiatives like biogas production '\n",
      " 'and Sustainable Aviation Fuel partnerships. The company believes its culture '\n",
      " 'and commitment to innovation will drive the energy transition and address '\n",
      " 'global challenges effectively.In July 2022, VARO Energy launched its ONE '\n",
      " 'VARO Transformation strategy to accelerate energy transition and achieve '\n",
      " 'net-zero emissions by 2040. The company promotes gender diversity and '\n",
      " 'provided financial support to lower-paid employees amidst rising living '\n",
      " 'costs. It has ceased sourcing Russian crude oil and is investing in '\n",
      " 'renewable energy, biofuels, hydrogen, and carbon removal technologies. VARO '\n",
      " 'aims for a 40% reduction in greenhouse gas emissions by 2030, focusing on '\n",
      " 'ethical practices and governance with executive pay linked to ESG '\n",
      " 'performance. The firm is committed to building an inclusive workplace and '\n",
      " 'supporting local communities through sustainable initiatives and '\n",
      " 'partnerships.VARO Energy aims for net-zero emissions by 2040, achieving a '\n",
      " '15% reduction in scope 3 greenhouse gas emission intensity by 2030. The '\n",
      " 'company plans to enhance low-carbon offerings like biofuels, hydrogen, and '\n",
      " 'e-mobility while implementing decarbonization initiatives and investing in '\n",
      " 'sustainable energy solutions. Their ONE VARO Transformation strategy focuses '\n",
      " 'on five growth areas: biofuels, biomethane, hydrogen, e-mobility, and carbon '\n",
      " 'removals, driven by customer needs. In 2022, VARO made significant '\n",
      " 'investments, including acquiring a major biogas manufacturer in the '\n",
      " 'Netherlands, and is engaged in afforestation projects for carbon removal '\n",
      " 'credits, all aligning with EU sustainability reporting requirements through '\n",
      " 'a \"double materiality\" approach.In December 2022, VARO Energy announced its '\n",
      " 'acquisition of 80% of Bio Energy Coevorden BV, a European biogas producer, '\n",
      " 'to expand its biogas capacity from 300 GWh to 650 GWh by 2026, contributing '\n",
      " '20-25% to its renewable energy EBITDA. The company has also supplied HVO '\n",
      " 'biodiesel and is collaborating with Lufthansa Group on sustainable aviation '\n",
      " 'fuel. VARO is investing in hydrogen production, e-mobility solutions, and '\n",
      " 'advises Southeast Asian plantation owners on carbon removal, targeting a 40% '\n",
      " 'reduction in scope 1 and 2 emissions by 2030 and net-zero emissions by 2040, '\n",
      " 'despite a 22% increase in emissions in 2022 due to production demands. '\n",
      " 'Overall, VARO is focused on sustainability and energy security amidst '\n",
      " 'challenges posed by the European energy crisis.VARO Energy is focused on '\n",
      " 'reducing its carbon intensity and addressing scope 3 emissions, recognizing '\n",
      " 'that upstream feedstock sourcing contributed 16% of its total emissions in '\n",
      " '2022. The company faces challenges related to regulations and incentives for '\n",
      " 'conventional fuels but is integrating sustainability into its strategy '\n",
      " 'through acquisitions, like Bio Energy Coevorden BV, to enhance biogas '\n",
      " 'production. VARO emphasizes internal carbon pricing, emissions forecasting, '\n",
      " 'and rigorous safety protocols to prevent spills and minimize non-greenhouse '\n",
      " 'gas emissions, despite experiencing five Tier 1 spills in 2022. Their '\n",
      " 'commitment to environmental safety includes community engagement, leak '\n",
      " 'detection systems, and biodiversity protection, with plans to enhance these '\n",
      " 'efforts and meet carbon reduction targets for 2040.VARO Energy prioritizes '\n",
      " 'environmental responsibility and safety in its petroleum refinery '\n",
      " 'operations. The company has eliminated PFAS firefighting foams, effectively '\n",
      " 'manages waste—90% of which was recycled in 2022—and develops Sustainable '\n",
      " 'Aviation Fuel (SAF) in collaboration with Lufthansa Group, using non-edible '\n",
      " 'biogenic feedstock. Safety measures include thorough incident '\n",
      " 'investigations, employee engagement, and health initiatives, though there '\n",
      " 'was an uptick in lower-tier safety events in 2022. For 2023, VARO plans to '\n",
      " 'enhance its safety culture, integrate new competencies, and implement '\n",
      " 'lifesaving rules to reduce risks and improve safety performance.In 2023, '\n",
      " 'VARO will enhance transport safety through a risk-based approach and digital '\n",
      " 'tools. The company aims for gender equity with goals of 50% female '\n",
      " 'representation in office roles and senior management by 2030. In 2022, women '\n",
      " 'held 40% of office positions and 16% of management, with a gender pay gap '\n",
      " \"below 10%. VARO's EI&D policy ensures equal opportunities and flexible work \"\n",
      " 'options, targeting a 75% employee engagement rate by 2025, supported by a '\n",
      " '94% retention rate and continuous improvement based on employee feedback. '\n",
      " 'Additionally, the company invests in employee development, has a financial '\n",
      " 'assistance program for lower-paid staff, and emphasizes community engagement '\n",
      " 'and environmental initiatives, including noise reduction and cultural '\n",
      " 'investments. Overall, VARO is focused on fostering diversity, '\n",
      " 'sustainability, and stakeholder relationships.In 2022, VARO Energy improved '\n",
      " 'youth engagement, community communication, and reduced noise complaints, '\n",
      " 'while supporting refugee relief due to the Ukraine crisis. The company plans '\n",
      " 'to implement a new ESG strategy focused on low-carbon energy, including '\n",
      " \"district heating systems and Switzerland's largest ground-mounted solar \"\n",
      " 'farm. VARO operates under a dual-board governance structure, with the '\n",
      " 'Supervisory Board overseeing ESG efforts and the Executive Board '\n",
      " 'implementing strategies. Dedicated committees manage risks, including '\n",
      " 'climate and market risks, through an Enterprise Risk Management system. The '\n",
      " 'company aims to integrate sustainability into its strategy to enhance '\n",
      " 'performance and long-term value.VARO Energy is enhancing its enterprise risk '\n",
      " 'management by integrating climate risk and conducting Climate Scenario '\n",
      " 'Analysis in line with TCFD recommendations. The company faces external '\n",
      " 'market risks from fluctuating oil prices and geopolitical tensions, '\n",
      " 'prompting the formation of a cross-functional team to monitor these '\n",
      " 'developments and ensure compliance with sanctions, including the '\n",
      " 'substitution of Russian crude oil since February 2022.\\n'\n",
      " '\\n'\n",
      " 'VARO prioritizes ethical conduct, requiring employees to report violations '\n",
      " 'under a robust Whistleblower Policy that protects against retaliation. The '\n",
      " 'company has implemented a comprehensive cybersecurity framework to safeguard '\n",
      " 'critical infrastructure and sensitive data, alongside crisis management '\n",
      " 'procedures and regular training.\\n'\n",
      " '\\n'\n",
      " \"Its 2022 ESG Report highlights VARO's commitment to sustainable practices \"\n",
      " 'and governance, including due diligence for large transactions, extensive '\n",
      " 'employee training on the Code of Conduct, and partnerships with '\n",
      " 'organizations like the World Economic Forum. The company adheres to human '\n",
      " 'rights standards and has a grievance mechanism in place, resolving three '\n",
      " 'issues in 2022. Overall, VARO Energy focuses on ethical practices, '\n",
      " 'accountability, and community engagement while striving for continuous ESG '\n",
      " \"performance improvement.In 2022, VARO Energy's emissions management at the \"\n",
      " 'Bayernoil manufacturing hub led to a revised methodology that increased '\n",
      " 'reported GHG emissions, with Scope 1 emissions rising from 639,406 tonnes in '\n",
      " '2021 to 788,815 tonnes in 2022. While Scope 2 emissions slightly decreased, '\n",
      " 'overall direct GHG emissions reached 1,217,116 tonnes, and Scope 3 emissions '\n",
      " 'totaled 78,451,178 tonnes. The company improved its carbon intensity for '\n",
      " 'manufacturing from 23 kg CO2/boe in 2021 to 21 kg CO2/boe in 2022. Health '\n",
      " 'and safety metrics showed a total recordable injury rate of 0.43, with zero '\n",
      " 'fatalities, while reporting increased significant oil spills to 18 '\n",
      " 'incidents. The workforce consisted of 1,329 employees, with a 91% retention '\n",
      " 'rate for those returning from parental leave. Diversity metrics indicated a '\n",
      " 'predominance of male members in governance.The document assesses VARO '\n",
      " \"Energy's workforce demographics and reporting practices from 2020 to 2021, \"\n",
      " 'highlighting gender disparities in senior management. It aligns with GRI '\n",
      " 'Standards for 2022, detailing governance, diversity, and sustainability '\n",
      " 'initiatives, while acknowledging some data omissions due to confidentiality. '\n",
      " \"The ESG report emphasizes the company's focus on key sustainability topics, \"\n",
      " 'such as anti-corruption and emissions reduction, noting no incidents of '\n",
      " \"corruption in 2022. It outlines VARO's commitment to sustainability goals \"\n",
      " 'aligned with Sustainable Development Goals (SDGs) and partnerships aimed at '\n",
      " 'advancing biofuel production and minimizing environmental impact.The VARO '\n",
      " \"Energy ESG Report 2022 assesses the company's environmental, social, and \"\n",
      " 'governance practices, focusing on areas such as waste management, spill '\n",
      " 'prevention, employment practices, health and safety, diversity, and '\n",
      " 'community engagement. The report notes gaps in compliance with GRI and SASB '\n",
      " \"standards but emphasizes VARO's commitment to ethical behavior and climate \"\n",
      " 'risk management. VARO actively collaborates with industry associations in '\n",
      " 'Switzerland, Germany, Belgium, France, Luxembourg, and the Netherlands to '\n",
      " 'promote sustainable practices, secure fuel supply, and advocate for '\n",
      " 'low-carbon energy solutions, highlighting its role in driving market '\n",
      " 'sustainability and facilitating the transition to greener energy sources.The '\n",
      " \"document details VARO Energy's affiliations with various organizations in \"\n",
      " 'the energy and environmental sectors, including ATEE, USI, FF3C, FFPI, and '\n",
      " \"the World Biogas Association. It highlights VARO's leadership in UPEI and \"\n",
      " 'partnership with the World Economic Forum. An assurance statement from Ernst '\n",
      " \"& Young confirms the integrity of VARO's ESG reporting metrics for 2022, \"\n",
      " 'adhering to ethical standards and the Dutch code of ethics. The assurance '\n",
      " 'covers specific selected information, with no prior data included, and '\n",
      " \"emphasizes the management board's responsibility for accuracy while the \"\n",
      " 'supervisory board oversees the process. The assurance procedures evaluated '\n",
      " 'reporting criteria and internal controls.')\n"
     ]
    }
   ],
   "source": [
    "pprint(summary)"
   ]
  }
 ],
 "metadata": {
  "kernelspec": {
   "display_name": ".venv",
   "language": "python",
   "name": "python3"
  },
  "language_info": {
   "codemirror_mode": {
    "name": "ipython",
    "version": 3
   },
   "file_extension": ".py",
   "mimetype": "text/x-python",
   "name": "python",
   "nbconvert_exporter": "python",
   "pygments_lexer": "ipython3",
   "version": "3.11.6"
  }
 },
 "nbformat": 4,
 "nbformat_minor": 2
}
